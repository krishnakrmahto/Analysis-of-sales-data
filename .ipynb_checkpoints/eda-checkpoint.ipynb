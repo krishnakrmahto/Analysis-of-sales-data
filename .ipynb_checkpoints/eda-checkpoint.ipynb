{
 "cells": [
  {
   "cell_type": "code",
   "execution_count": 1,
   "metadata": {},
   "outputs": [],
   "source": [
    "import os\n",
    "import pandas as pd\n",
    "import numpy as np\n",
    "import seaborn as sns\n",
    "import matplotlib.pyplot as plt"
   ]
  },
  {
   "cell_type": "code",
   "execution_count": 2,
   "metadata": {},
   "outputs": [],
   "source": [
    "data_dir = 'sales_data_v2/'"
   ]
  },
  {
   "cell_type": "code",
   "execution_count": 3,
   "metadata": {},
   "outputs": [],
   "source": [
    "files_csv = os.listdir(data_dir)"
   ]
  },
  {
   "cell_type": "code",
   "execution_count": 4,
   "metadata": {},
   "outputs": [
    {
     "data": {
      "text/plain": [
       "['file1.csv',\n",
       " 'file7.csv',\n",
       " 'file3.csv',\n",
       " 'file5.csv',\n",
       " 'file9.csv',\n",
       " 'file6.csv',\n",
       " 'file2.csv',\n",
       " 'file8.csv',\n",
       " 'file4.csv']"
      ]
     },
     "execution_count": 4,
     "metadata": {},
     "output_type": "execute_result"
    }
   ],
   "source": [
    "files_csv"
   ]
  },
  {
   "cell_type": "code",
   "execution_count": 5,
   "metadata": {},
   "outputs": [],
   "source": [
    "dfs = []\n",
    "for file_csv in files_csv:\n",
    "    dfs.append(pd.read_csv(data_dir+file_csv))"
   ]
  },
  {
   "cell_type": "code",
   "execution_count": 6,
   "metadata": {},
   "outputs": [
    {
     "data": {
      "text/plain": [
       "9"
      ]
     },
     "execution_count": 6,
     "metadata": {},
     "output_type": "execute_result"
    }
   ],
   "source": [
    "len(dfs)"
   ]
  },
  {
   "cell_type": "code",
   "execution_count": 7,
   "metadata": {},
   "outputs": [],
   "source": [
    "cols_in_first_df = list(dfs[0].columns)"
   ]
  },
  {
   "cell_type": "code",
   "execution_count": 8,
   "metadata": {},
   "outputs": [],
   "source": [
    "count = 0\n",
    "dissimlar_dfs = []\n",
    "for df in dfs[1:]:\n",
    "    if list(df.columns) == cols_in_first_df:\n",
    "        count += 1\n",
    "        \n",
    "    else:\n",
    "        dissimlar_dfs.append(df)"
   ]
  },
  {
   "cell_type": "code",
   "execution_count": 9,
   "metadata": {},
   "outputs": [
    {
     "name": "stdout",
     "output_type": "stream",
     "text": [
      "[] 8\n"
     ]
    }
   ],
   "source": [
    "print(dissimlar_dfs, count)"
   ]
  },
  {
   "cell_type": "code",
   "execution_count": 10,
   "metadata": {},
   "outputs": [],
   "source": [
    "df_total = pd.DataFrame()\n",
    "df_total = df_total.append(dfs)"
   ]
  },
  {
   "cell_type": "code",
   "execution_count": 11,
   "metadata": {},
   "outputs": [
    {
     "data": {
      "text/plain": [
       "(63113, 10)"
      ]
     },
     "execution_count": 11,
     "metadata": {},
     "output_type": "execute_result"
    }
   ],
   "source": [
    "df_total.shape"
   ]
  },
  {
   "cell_type": "markdown",
   "metadata": {},
   "source": [
    "# EDA\n",
    "---\n",
    "The first cell saves the entire dataset (which is currently stored in df_total) in the dataframe by the name df.\n",
    "Hereafter, df will be used to reference the entire dataset.\n",
    "***\n",
    "In this section we shall explore all the features."
   ]
  },
  {
   "cell_type": "code",
   "execution_count": 12,
   "metadata": {},
   "outputs": [],
   "source": [
    "df = df_total"
   ]
  },
  {
   "cell_type": "code",
   "execution_count": 13,
   "metadata": {
    "scrolled": true
   },
   "outputs": [
    {
     "data": {
      "text/plain": [
       "Index(['SKU Code', 'Brand Code', 'Category', 'Bill Number', 'Store Code',\n",
       "       'Sale Date', 'Sale/Return', 'MRP', 'Sales Price', 'Sales Qty'],\n",
       "      dtype='object')"
      ]
     },
     "execution_count": 13,
     "metadata": {},
     "output_type": "execute_result"
    }
   ],
   "source": [
    "df.columns"
   ]
  },
  {
   "cell_type": "code",
   "execution_count": 14,
   "metadata": {},
   "outputs": [
    {
     "data": {
      "text/plain": [
       "SKU Code        object\n",
       "Brand Code      object\n",
       "Category        object\n",
       "Bill Number     object\n",
       "Store Code      object\n",
       "Sale Date       object\n",
       "Sale/Return     object\n",
       "MRP            float64\n",
       "Sales Price    float64\n",
       "Sales Qty        int64\n",
       "dtype: object"
      ]
     },
     "execution_count": 14,
     "metadata": {},
     "output_type": "execute_result"
    }
   ],
   "source": [
    "df.dtypes"
   ]
  },
  {
   "cell_type": "markdown",
   "metadata": {},
   "source": [
    "### Exploring missing values"
   ]
  },
  {
   "cell_type": "code",
   "execution_count": 15,
   "metadata": {},
   "outputs": [
    {
     "data": {
      "text/plain": [
       "SKU Code        0\n",
       "Brand Code     13\n",
       "Category        9\n",
       "Bill Number     0\n",
       "Store Code      0\n",
       "Sale Date       0\n",
       "Sale/Return     0\n",
       "MRP             0\n",
       "Sales Price     0\n",
       "Sales Qty       0\n",
       "dtype: int64"
      ]
     },
     "execution_count": 15,
     "metadata": {},
     "output_type": "execute_result"
    }
   ],
   "source": [
    "df.isna().sum()"
   ]
  },
  {
   "cell_type": "code",
   "execution_count": 16,
   "metadata": {},
   "outputs": [
    {
     "data": {
      "text/plain": [
       "(63113,)"
      ]
     },
     "execution_count": 16,
     "metadata": {},
     "output_type": "execute_result"
    }
   ],
   "source": [
    "df['Brand Code'].isna().shape"
   ]
  },
  {
   "cell_type": "code",
   "execution_count": 17,
   "metadata": {},
   "outputs": [
    {
     "data": {
      "text/html": [
       "<div>\n",
       "<style scoped>\n",
       "    .dataframe tbody tr th:only-of-type {\n",
       "        vertical-align: middle;\n",
       "    }\n",
       "\n",
       "    .dataframe tbody tr th {\n",
       "        vertical-align: top;\n",
       "    }\n",
       "\n",
       "    .dataframe thead th {\n",
       "        text-align: right;\n",
       "    }\n",
       "</style>\n",
       "<table border=\"1\" class=\"dataframe\">\n",
       "  <thead>\n",
       "    <tr style=\"text-align: right;\">\n",
       "      <th></th>\n",
       "      <th>SKU Code</th>\n",
       "      <th>Brand Code</th>\n",
       "      <th>Category</th>\n",
       "      <th>Bill Number</th>\n",
       "      <th>Store Code</th>\n",
       "      <th>Sale Date</th>\n",
       "      <th>Sale/Return</th>\n",
       "      <th>MRP</th>\n",
       "      <th>Sales Price</th>\n",
       "      <th>Sales Qty</th>\n",
       "    </tr>\n",
       "  </thead>\n",
       "  <tbody>\n",
       "    <tr>\n",
       "      <th>10</th>\n",
       "      <td>SKU0726</td>\n",
       "      <td>NaN</td>\n",
       "      <td>Cat01</td>\n",
       "      <td>BILL02585</td>\n",
       "      <td>Store 6</td>\n",
       "      <td>2017-07-19</td>\n",
       "      <td>Sale</td>\n",
       "      <td>54.67</td>\n",
       "      <td>54.67</td>\n",
       "      <td>1</td>\n",
       "    </tr>\n",
       "    <tr>\n",
       "      <th>11</th>\n",
       "      <td>SKU0726</td>\n",
       "      <td>NaN</td>\n",
       "      <td>Cat01</td>\n",
       "      <td>BILL02585</td>\n",
       "      <td>Store 6</td>\n",
       "      <td>2017-07-19</td>\n",
       "      <td>Sale</td>\n",
       "      <td>54.67</td>\n",
       "      <td>54.67</td>\n",
       "      <td>1</td>\n",
       "    </tr>\n",
       "    <tr>\n",
       "      <th>10</th>\n",
       "      <td>SKU0726</td>\n",
       "      <td>NaN</td>\n",
       "      <td>Cat01</td>\n",
       "      <td>BILL02585</td>\n",
       "      <td>Store 6</td>\n",
       "      <td>2017-07-19</td>\n",
       "      <td>Sale</td>\n",
       "      <td>54.67</td>\n",
       "      <td>54.67</td>\n",
       "      <td>1</td>\n",
       "    </tr>\n",
       "    <tr>\n",
       "      <th>11</th>\n",
       "      <td>SKU0726</td>\n",
       "      <td>NaN</td>\n",
       "      <td>Cat01</td>\n",
       "      <td>BILL02585</td>\n",
       "      <td>Store 6</td>\n",
       "      <td>2017-07-19</td>\n",
       "      <td>Sale</td>\n",
       "      <td>54.67</td>\n",
       "      <td>54.67</td>\n",
       "      <td>1</td>\n",
       "    </tr>\n",
       "    <tr>\n",
       "      <th>29</th>\n",
       "      <td>SKU2585</td>\n",
       "      <td>NaN</td>\n",
       "      <td>NaN</td>\n",
       "      <td>BILL09133</td>\n",
       "      <td>Store 3</td>\n",
       "      <td>2017-09-09</td>\n",
       "      <td>Sale</td>\n",
       "      <td>2.60</td>\n",
       "      <td>2.60</td>\n",
       "      <td>1</td>\n",
       "    </tr>\n",
       "    <tr>\n",
       "      <th>1278</th>\n",
       "      <td>SKU2649</td>\n",
       "      <td>NaN</td>\n",
       "      <td>NaN</td>\n",
       "      <td>BILL09643</td>\n",
       "      <td>Store 3</td>\n",
       "      <td>2017-09-06</td>\n",
       "      <td>Sale</td>\n",
       "      <td>8.00</td>\n",
       "      <td>8.00</td>\n",
       "      <td>1</td>\n",
       "    </tr>\n",
       "    <tr>\n",
       "      <th>1372</th>\n",
       "      <td>SKU2653</td>\n",
       "      <td>NaN</td>\n",
       "      <td>NaN</td>\n",
       "      <td>BILL09736</td>\n",
       "      <td>Store 3</td>\n",
       "      <td>2017-09-07</td>\n",
       "      <td>Sale</td>\n",
       "      <td>30.00</td>\n",
       "      <td>30.00</td>\n",
       "      <td>1</td>\n",
       "    </tr>\n",
       "    <tr>\n",
       "      <th>1373</th>\n",
       "      <td>SKU2649</td>\n",
       "      <td>NaN</td>\n",
       "      <td>NaN</td>\n",
       "      <td>BILL09737</td>\n",
       "      <td>Store 3</td>\n",
       "      <td>2017-09-07</td>\n",
       "      <td>Sale</td>\n",
       "      <td>8.00</td>\n",
       "      <td>8.00</td>\n",
       "      <td>1</td>\n",
       "    </tr>\n",
       "    <tr>\n",
       "      <th>1434</th>\n",
       "      <td>SKU2654</td>\n",
       "      <td>NaN</td>\n",
       "      <td>NaN</td>\n",
       "      <td>BILL09771</td>\n",
       "      <td>Store 3</td>\n",
       "      <td>2017-09-07</td>\n",
       "      <td>Sale</td>\n",
       "      <td>9.67</td>\n",
       "      <td>9.67</td>\n",
       "      <td>1</td>\n",
       "    </tr>\n",
       "    <tr>\n",
       "      <th>1478</th>\n",
       "      <td>SKU2657</td>\n",
       "      <td>NaN</td>\n",
       "      <td>NaN</td>\n",
       "      <td>BILL09798</td>\n",
       "      <td>Store 3</td>\n",
       "      <td>2017-09-08</td>\n",
       "      <td>Sale</td>\n",
       "      <td>3.73</td>\n",
       "      <td>0.00</td>\n",
       "      <td>1</td>\n",
       "    </tr>\n",
       "    <tr>\n",
       "      <th>1482</th>\n",
       "      <td>SKU2658</td>\n",
       "      <td>NaN</td>\n",
       "      <td>NaN</td>\n",
       "      <td>BILL09802</td>\n",
       "      <td>Store 3</td>\n",
       "      <td>2017-09-08</td>\n",
       "      <td>Sale</td>\n",
       "      <td>4.33</td>\n",
       "      <td>4.33</td>\n",
       "      <td>1</td>\n",
       "    </tr>\n",
       "    <tr>\n",
       "      <th>1490</th>\n",
       "      <td>SKU2659</td>\n",
       "      <td>NaN</td>\n",
       "      <td>NaN</td>\n",
       "      <td>BILL09809</td>\n",
       "      <td>Store 3</td>\n",
       "      <td>2017-09-08</td>\n",
       "      <td>Sale</td>\n",
       "      <td>4.33</td>\n",
       "      <td>4.33</td>\n",
       "      <td>1</td>\n",
       "    </tr>\n",
       "    <tr>\n",
       "      <th>1506</th>\n",
       "      <td>SKU2661</td>\n",
       "      <td>NaN</td>\n",
       "      <td>NaN</td>\n",
       "      <td>BILL09825</td>\n",
       "      <td>Store 3</td>\n",
       "      <td>2017-09-08</td>\n",
       "      <td>Sale</td>\n",
       "      <td>3.99</td>\n",
       "      <td>3.99</td>\n",
       "      <td>1</td>\n",
       "    </tr>\n",
       "  </tbody>\n",
       "</table>\n",
       "</div>"
      ],
      "text/plain": [
       "     SKU Code Brand Code Category Bill Number Store Code   Sale Date  \\\n",
       "10    SKU0726        NaN    Cat01   BILL02585    Store 6  2017-07-19   \n",
       "11    SKU0726        NaN    Cat01   BILL02585    Store 6  2017-07-19   \n",
       "10    SKU0726        NaN    Cat01   BILL02585    Store 6  2017-07-19   \n",
       "11    SKU0726        NaN    Cat01   BILL02585    Store 6  2017-07-19   \n",
       "29    SKU2585        NaN      NaN   BILL09133    Store 3  2017-09-09   \n",
       "1278  SKU2649        NaN      NaN   BILL09643    Store 3  2017-09-06   \n",
       "1372  SKU2653        NaN      NaN   BILL09736    Store 3  2017-09-07   \n",
       "1373  SKU2649        NaN      NaN   BILL09737    Store 3  2017-09-07   \n",
       "1434  SKU2654        NaN      NaN   BILL09771    Store 3  2017-09-07   \n",
       "1478  SKU2657        NaN      NaN   BILL09798    Store 3  2017-09-08   \n",
       "1482  SKU2658        NaN      NaN   BILL09802    Store 3  2017-09-08   \n",
       "1490  SKU2659        NaN      NaN   BILL09809    Store 3  2017-09-08   \n",
       "1506  SKU2661        NaN      NaN   BILL09825    Store 3  2017-09-08   \n",
       "\n",
       "     Sale/Return    MRP  Sales Price  Sales Qty  \n",
       "10          Sale  54.67        54.67          1  \n",
       "11          Sale  54.67        54.67          1  \n",
       "10          Sale  54.67        54.67          1  \n",
       "11          Sale  54.67        54.67          1  \n",
       "29          Sale   2.60         2.60          1  \n",
       "1278        Sale   8.00         8.00          1  \n",
       "1372        Sale  30.00        30.00          1  \n",
       "1373        Sale   8.00         8.00          1  \n",
       "1434        Sale   9.67         9.67          1  \n",
       "1478        Sale   3.73         0.00          1  \n",
       "1482        Sale   4.33         4.33          1  \n",
       "1490        Sale   4.33         4.33          1  \n",
       "1506        Sale   3.99         3.99          1  "
      ]
     },
     "execution_count": 17,
     "metadata": {},
     "output_type": "execute_result"
    }
   ],
   "source": [
    "df.loc[df['Brand Code'].isna()]"
   ]
  },
  {
   "cell_type": "markdown",
   "metadata": {},
   "source": [
    "<font color='blue'>Comment</font>: Missing values in Brand Code column correspond to legit sales, except the sale corresponding to row 1478 where Sales_Price = 0 while MRP = 3.73. No information about the discount has been maintained in the dataset, so it might either be a 100% discount sale, or error in data entry.\n",
    "<br>\n",
    "<font color='blue'>Next</font>: Explore rows (i.e. sales) corresponding to other columns having missing values. Category is the only such column.</font>"
   ]
  },
  {
   "cell_type": "code",
   "execution_count": 18,
   "metadata": {},
   "outputs": [
    {
     "data": {
      "text/html": [
       "<div>\n",
       "<style scoped>\n",
       "    .dataframe tbody tr th:only-of-type {\n",
       "        vertical-align: middle;\n",
       "    }\n",
       "\n",
       "    .dataframe tbody tr th {\n",
       "        vertical-align: top;\n",
       "    }\n",
       "\n",
       "    .dataframe thead th {\n",
       "        text-align: right;\n",
       "    }\n",
       "</style>\n",
       "<table border=\"1\" class=\"dataframe\">\n",
       "  <thead>\n",
       "    <tr style=\"text-align: right;\">\n",
       "      <th></th>\n",
       "      <th>SKU Code</th>\n",
       "      <th>Brand Code</th>\n",
       "      <th>Category</th>\n",
       "      <th>Bill Number</th>\n",
       "      <th>Store Code</th>\n",
       "      <th>Sale Date</th>\n",
       "      <th>Sale/Return</th>\n",
       "      <th>MRP</th>\n",
       "      <th>Sales Price</th>\n",
       "      <th>Sales Qty</th>\n",
       "    </tr>\n",
       "  </thead>\n",
       "  <tbody>\n",
       "    <tr>\n",
       "      <th>29</th>\n",
       "      <td>SKU2585</td>\n",
       "      <td>NaN</td>\n",
       "      <td>NaN</td>\n",
       "      <td>BILL09133</td>\n",
       "      <td>Store 3</td>\n",
       "      <td>2017-09-09</td>\n",
       "      <td>Sale</td>\n",
       "      <td>2.60</td>\n",
       "      <td>2.60</td>\n",
       "      <td>1</td>\n",
       "    </tr>\n",
       "    <tr>\n",
       "      <th>1278</th>\n",
       "      <td>SKU2649</td>\n",
       "      <td>NaN</td>\n",
       "      <td>NaN</td>\n",
       "      <td>BILL09643</td>\n",
       "      <td>Store 3</td>\n",
       "      <td>2017-09-06</td>\n",
       "      <td>Sale</td>\n",
       "      <td>8.00</td>\n",
       "      <td>8.00</td>\n",
       "      <td>1</td>\n",
       "    </tr>\n",
       "    <tr>\n",
       "      <th>1372</th>\n",
       "      <td>SKU2653</td>\n",
       "      <td>NaN</td>\n",
       "      <td>NaN</td>\n",
       "      <td>BILL09736</td>\n",
       "      <td>Store 3</td>\n",
       "      <td>2017-09-07</td>\n",
       "      <td>Sale</td>\n",
       "      <td>30.00</td>\n",
       "      <td>30.00</td>\n",
       "      <td>1</td>\n",
       "    </tr>\n",
       "    <tr>\n",
       "      <th>1373</th>\n",
       "      <td>SKU2649</td>\n",
       "      <td>NaN</td>\n",
       "      <td>NaN</td>\n",
       "      <td>BILL09737</td>\n",
       "      <td>Store 3</td>\n",
       "      <td>2017-09-07</td>\n",
       "      <td>Sale</td>\n",
       "      <td>8.00</td>\n",
       "      <td>8.00</td>\n",
       "      <td>1</td>\n",
       "    </tr>\n",
       "    <tr>\n",
       "      <th>1434</th>\n",
       "      <td>SKU2654</td>\n",
       "      <td>NaN</td>\n",
       "      <td>NaN</td>\n",
       "      <td>BILL09771</td>\n",
       "      <td>Store 3</td>\n",
       "      <td>2017-09-07</td>\n",
       "      <td>Sale</td>\n",
       "      <td>9.67</td>\n",
       "      <td>9.67</td>\n",
       "      <td>1</td>\n",
       "    </tr>\n",
       "    <tr>\n",
       "      <th>1478</th>\n",
       "      <td>SKU2657</td>\n",
       "      <td>NaN</td>\n",
       "      <td>NaN</td>\n",
       "      <td>BILL09798</td>\n",
       "      <td>Store 3</td>\n",
       "      <td>2017-09-08</td>\n",
       "      <td>Sale</td>\n",
       "      <td>3.73</td>\n",
       "      <td>0.00</td>\n",
       "      <td>1</td>\n",
       "    </tr>\n",
       "    <tr>\n",
       "      <th>1482</th>\n",
       "      <td>SKU2658</td>\n",
       "      <td>NaN</td>\n",
       "      <td>NaN</td>\n",
       "      <td>BILL09802</td>\n",
       "      <td>Store 3</td>\n",
       "      <td>2017-09-08</td>\n",
       "      <td>Sale</td>\n",
       "      <td>4.33</td>\n",
       "      <td>4.33</td>\n",
       "      <td>1</td>\n",
       "    </tr>\n",
       "    <tr>\n",
       "      <th>1490</th>\n",
       "      <td>SKU2659</td>\n",
       "      <td>NaN</td>\n",
       "      <td>NaN</td>\n",
       "      <td>BILL09809</td>\n",
       "      <td>Store 3</td>\n",
       "      <td>2017-09-08</td>\n",
       "      <td>Sale</td>\n",
       "      <td>4.33</td>\n",
       "      <td>4.33</td>\n",
       "      <td>1</td>\n",
       "    </tr>\n",
       "    <tr>\n",
       "      <th>1506</th>\n",
       "      <td>SKU2661</td>\n",
       "      <td>NaN</td>\n",
       "      <td>NaN</td>\n",
       "      <td>BILL09825</td>\n",
       "      <td>Store 3</td>\n",
       "      <td>2017-09-08</td>\n",
       "      <td>Sale</td>\n",
       "      <td>3.99</td>\n",
       "      <td>3.99</td>\n",
       "      <td>1</td>\n",
       "    </tr>\n",
       "  </tbody>\n",
       "</table>\n",
       "</div>"
      ],
      "text/plain": [
       "     SKU Code Brand Code Category Bill Number Store Code   Sale Date  \\\n",
       "29    SKU2585        NaN      NaN   BILL09133    Store 3  2017-09-09   \n",
       "1278  SKU2649        NaN      NaN   BILL09643    Store 3  2017-09-06   \n",
       "1372  SKU2653        NaN      NaN   BILL09736    Store 3  2017-09-07   \n",
       "1373  SKU2649        NaN      NaN   BILL09737    Store 3  2017-09-07   \n",
       "1434  SKU2654        NaN      NaN   BILL09771    Store 3  2017-09-07   \n",
       "1478  SKU2657        NaN      NaN   BILL09798    Store 3  2017-09-08   \n",
       "1482  SKU2658        NaN      NaN   BILL09802    Store 3  2017-09-08   \n",
       "1490  SKU2659        NaN      NaN   BILL09809    Store 3  2017-09-08   \n",
       "1506  SKU2661        NaN      NaN   BILL09825    Store 3  2017-09-08   \n",
       "\n",
       "     Sale/Return    MRP  Sales Price  Sales Qty  \n",
       "29          Sale   2.60         2.60          1  \n",
       "1278        Sale   8.00         8.00          1  \n",
       "1372        Sale  30.00        30.00          1  \n",
       "1373        Sale   8.00         8.00          1  \n",
       "1434        Sale   9.67         9.67          1  \n",
       "1478        Sale   3.73         0.00          1  \n",
       "1482        Sale   4.33         4.33          1  \n",
       "1490        Sale   4.33         4.33          1  \n",
       "1506        Sale   3.99         3.99          1  "
      ]
     },
     "execution_count": 18,
     "metadata": {},
     "output_type": "execute_result"
    }
   ],
   "source": [
    "df.loc[df['Category'].isna()]"
   ]
  },
  {
   "cell_type": "markdown",
   "metadata": {},
   "source": [
    "<font color='blue'>Comment</font>: Missing values in Category column correspond to legit sales, except the sale corresponding to row 1478 where Sales_Price = 0 while MRP = 3.73. It appears mostly like to be an error in data entry.\n",
    "<br>\n",
    "<font color='blue'>Next</font>: Explore other aspects of features and their values. </font>"
   ]
  },
  {
   "cell_type": "markdown",
   "metadata": {},
   "source": [
    "### Exploring the features"
   ]
  },
  {
   "cell_type": "code",
   "execution_count": 19,
   "metadata": {},
   "outputs": [
    {
     "data": {
      "text/plain": [
       "SKU Code        object\n",
       "Brand Code      object\n",
       "Category        object\n",
       "Bill Number     object\n",
       "Store Code      object\n",
       "Sale Date       object\n",
       "Sale/Return     object\n",
       "MRP            float64\n",
       "Sales Price    float64\n",
       "Sales Qty        int64\n",
       "dtype: object"
      ]
     },
     "execution_count": 19,
     "metadata": {},
     "output_type": "execute_result"
    }
   ],
   "source": [
    "df.dtypes"
   ]
  },
  {
   "cell_type": "markdown",
   "metadata": {},
   "source": [
    "### <font color='orange'>Feature- Brand Code</font>"
   ]
  },
  {
   "cell_type": "code",
   "execution_count": 20,
   "metadata": {
    "scrolled": true
   },
   "outputs": [
    {
     "data": {
      "text/plain": [
       "187"
      ]
     },
     "execution_count": 20,
     "metadata": {},
     "output_type": "execute_result"
    }
   ],
   "source": [
    "len(df['Brand Code'].value_counts())"
   ]
  },
  {
   "cell_type": "markdown",
   "metadata": {},
   "source": [
    "<font color='blue'>Comment</font>: 11 different brands.\n",
    "<br>\n",
    "<font color='blue'>Next</font>: Explore other features. </font>"
   ]
  },
  {
   "cell_type": "code",
   "execution_count": 21,
   "metadata": {
    "scrolled": false
   },
   "outputs": [
    {
     "name": "stdout",
     "output_type": "stream",
     "text": [
      "11\n",
      "Cat04    28267\n",
      "Cat07    18427\n",
      "Cat01    12372\n",
      "Cat02     1405\n",
      "Cat03      919\n",
      "Cat08      913\n",
      "Cat05      252\n",
      "Cat09      226\n",
      "Cat06      146\n",
      "Cat10      116\n",
      "Cat11       61\n",
      "Name: Category, dtype: int64\n"
     ]
    }
   ],
   "source": [
    "print(len(df['Category'].value_counts()))\n",
    "print(df['Category'].value_counts())"
   ]
  },
  {
   "cell_type": "markdown",
   "metadata": {},
   "source": [
    "<font color='blue'>Comment</font>: 11 different categories\n",
    "<br>\n",
    "<font color='blue'>Next</font>: Explore other features. </font>"
   ]
  },
  {
   "cell_type": "code",
   "execution_count": 22,
   "metadata": {},
   "outputs": [
    {
     "data": {
      "text/plain": [
       "424"
      ]
     },
     "execution_count": 22,
     "metadata": {},
     "output_type": "execute_result"
    }
   ],
   "source": [
    "len(df['Sale Date'].value_counts())"
   ]
  },
  {
   "cell_type": "markdown",
   "metadata": {},
   "source": [
    "<font color='blue'>Comment</font>: Data is from 424 different dates.\n",
    "<br>\n",
    "<font color='blue'>Next</font>: Explore other variables. </font>"
   ]
  },
  {
   "cell_type": "code",
   "execution_count": 23,
   "metadata": {},
   "outputs": [
    {
     "data": {
      "text/plain": [
       "Store 5    16700\n",
       "Store 1    11584\n",
       "Store 2    10248\n",
       "Store 4    10049\n",
       "Store 3     9526\n",
       "Store 6     5006\n",
       "Name: Store Code, dtype: int64"
      ]
     },
     "execution_count": 23,
     "metadata": {},
     "output_type": "execute_result"
    }
   ],
   "source": [
    "df['Store Code'].value_counts()"
   ]
  },
  {
   "cell_type": "markdown",
   "metadata": {},
   "source": [
    "<font color='blue'>Comment</font>: 6 different stores.\n",
    "<br>\n",
    "<font color='blue'>Next</font>: Explore other variables. </font>"
   ]
  },
  {
   "cell_type": "code",
   "execution_count": 24,
   "metadata": {},
   "outputs": [
    {
     "data": {
      "text/plain": [
       "27191"
      ]
     },
     "execution_count": 24,
     "metadata": {},
     "output_type": "execute_result"
    }
   ],
   "source": [
    "len(df['Bill Number'].value_counts())"
   ]
  },
  {
   "cell_type": "markdown",
   "metadata": {},
   "source": [
    "<font color='blue'>Comment</font>: ~27k bills ---> multiple items purchased per bill (since there are 60k+ rows). Also, this means each row is for the sale made for one particular item, because each row has a 'Cateogory' column.\n",
    "<br>\n",
    "<font color='blue'>Next</font>: Explore other features. </font>"
   ]
  },
  {
   "cell_type": "code",
   "execution_count": 25,
   "metadata": {},
   "outputs": [
    {
     "data": {
      "text/plain": [
       " 1    61119\n",
       " 2     1282\n",
       " 3      280\n",
       "-1      183\n",
       " 4      102\n",
       " 0       57\n",
       " 5       38\n",
       " 7       24\n",
       " 6       21\n",
       "-2        5\n",
       "-4        1\n",
       " 8        1\n",
       "Name: Sales Qty, dtype: int64"
      ]
     },
     "execution_count": 25,
     "metadata": {},
     "output_type": "execute_result"
    }
   ],
   "source": [
    "df['Sales Qty'].value_counts()"
   ]
  },
  {
   "cell_type": "markdown",
   "metadata": {},
   "source": [
    "<font color='blue'>Comment</font>: Anomalies found -- non-positive values in sales qty -- will be looked into in the next section.\n",
    "<br>\n",
    "<font color='blue'>Next</font>: Explore other features. </font>"
   ]
  },
  {
   "cell_type": "code",
   "execution_count": 26,
   "metadata": {},
   "outputs": [
    {
     "data": {
      "text/plain": [
       "0    Return\n",
       "1      Sale\n",
       "Name: Sale/Return, dtype: object"
      ]
     },
     "execution_count": 26,
     "metadata": {},
     "output_type": "execute_result"
    }
   ],
   "source": [
    "# Sale/Return is the status of a purchase made\n",
    "df['Sale/Return'].head(2)"
   ]
  },
  {
   "cell_type": "code",
   "execution_count": 27,
   "metadata": {
    "scrolled": true
   },
   "outputs": [
    {
     "data": {
      "text/plain": [
       "Sale      62924\n",
       "Return      189\n",
       "Name: Sale/Return, dtype: int64"
      ]
     },
     "execution_count": 27,
     "metadata": {},
     "output_type": "execute_result"
    }
   ],
   "source": [
    "# Sale/Return contains only Sale/Return\n",
    "df['Sale/Return'].value_counts()"
   ]
  },
  {
   "cell_type": "markdown",
   "metadata": {},
   "source": [
    "### <font color='orange'>Feature- Category</font>"
   ]
  },
  {
   "cell_type": "code",
   "execution_count": 28,
   "metadata": {
    "scrolled": true
   },
   "outputs": [
    {
     "data": {
      "text/plain": [
       "<matplotlib.axes._subplots.AxesSubplot at 0x7f2a316f25f8>"
      ]
     },
     "execution_count": 28,
     "metadata": {},
     "output_type": "execute_result"
    },
    {
     "data": {
      "image/png": "[encoded data removed]",
      "text/plain": [
       "<Figure size 432x288 with 1 Axes>"
      ]
     },
     "metadata": {},
     "output_type": "display_data"
    }
   ],
   "source": [
    "sns.countplot(df['Category'])"
   ]
  },
  {
   "cell_type": "markdown",
   "metadata": {},
   "source": [
    "### <font color='orange'>Feature- MRP</font>"
   ]
  },
  {
   "cell_type": "code",
   "execution_count": 29,
   "metadata": {},
   "outputs": [
    {
     "name": "stderr",
     "output_type": "stream",
     "text": [
      "/home/krish-thorcode/anaconda3/lib/python3.6/site-packages/matplotlib/axes/_axes.py:6462: UserWarning: The 'normed' kwarg is deprecated, and has been replaced by the 'density' kwarg.\n",
      "  warnings.warn(\"The 'normed' kwarg is deprecated, and has been \"\n"
     ]
    },
    {
     "data": {
      "text/plain": [
       "<matplotlib.axes._subplots.AxesSubplot at 0x7f2a31531080>"
      ]
     },
     "execution_count": 29,
     "metadata": {},
     "output_type": "execute_result"
    },
    {
     "data": {
      "image/png": "[encoded data removed]",
      "text/plain": [
       "<Figure size 432x288 with 1 Axes>"
      ]
     },
     "metadata": {},
     "output_type": "display_data"
    }
   ],
   "source": [
    "plt.title('Fig. 1. Distplot of MRP')\n",
    "sns.distplot(df['MRP'])"
   ]
  },
  {
   "cell_type": "markdown",
   "metadata": {},
   "source": [
    "<center><font color='blue'> Fig. 1. </font>From the distribution plot, it looks like there are negative entries in the feature column. We explore it more.</center>"
   ]
  },
  {
   "cell_type": "code",
   "execution_count": 30,
   "metadata": {},
   "outputs": [
    {
     "data": {
      "text/html": [
       "<div>\n",
       "<style scoped>\n",
       "    .dataframe tbody tr th:only-of-type {\n",
       "        vertical-align: middle;\n",
       "    }\n",
       "\n",
       "    .dataframe tbody tr th {\n",
       "        vertical-align: top;\n",
       "    }\n",
       "\n",
       "    .dataframe thead th {\n",
       "        text-align: right;\n",
       "    }\n",
       "</style>\n",
       "<table border=\"1\" class=\"dataframe\">\n",
       "  <thead>\n",
       "    <tr style=\"text-align: right;\">\n",
       "      <th></th>\n",
       "      <th>SKU Code</th>\n",
       "      <th>Brand Code</th>\n",
       "      <th>Category</th>\n",
       "      <th>Bill Number</th>\n",
       "      <th>Store Code</th>\n",
       "      <th>Sale Date</th>\n",
       "      <th>Sale/Return</th>\n",
       "      <th>MRP</th>\n",
       "      <th>Sales Price</th>\n",
       "      <th>Sales Qty</th>\n",
       "    </tr>\n",
       "  </thead>\n",
       "  <tbody>\n",
       "  </tbody>\n",
       "</table>\n",
       "</div>"
      ],
      "text/plain": [
       "Empty DataFrame\n",
       "Columns: [SKU Code, Brand Code, Category, Bill Number, Store Code, Sale Date, Sale/Return, MRP, Sales Price, Sales Qty]\n",
       "Index: []"
      ]
     },
     "execution_count": 30,
     "metadata": {},
     "output_type": "execute_result"
    }
   ],
   "source": [
    "df.loc[df['MRP']<0]"
   ]
  },
  {
   "cell_type": "markdown",
   "metadata": {},
   "source": [
    "<font color='blue'>Comment: </font>No negative values found"
   ]
  },
  {
   "cell_type": "code",
   "execution_count": 31,
   "metadata": {},
   "outputs": [
    {
     "data": {
      "text/plain": [
       "(855, 10)"
      ]
     },
     "execution_count": 31,
     "metadata": {},
     "output_type": "execute_result"
    }
   ],
   "source": [
    "df.loc[df['MRP']==0].shape"
   ]
  },
  {
   "cell_type": "markdown",
   "metadata": {},
   "source": [
    "<font color='blue'>Comment</font>: The best way to deal with zero entries in MRP is to consult the seller/brand/store and replace the values with correct entries (assuming MRP cannot be zero).\n",
    "<br>\n",
    "<font color='blue'>Next</font>: Explore the Sales price feature, esp w.r.t. the rows where MRP is 0</font>"
   ]
  },
  {
   "cell_type": "markdown",
   "metadata": {},
   "source": [
    "### <font color='orange'>Feature- Sales price</font>"
   ]
  },
  {
   "cell_type": "code",
   "execution_count": 32,
   "metadata": {
    "scrolled": true
   },
   "outputs": [
    {
     "name": "stderr",
     "output_type": "stream",
     "text": [
      "/home/krish-thorcode/anaconda3/lib/python3.6/site-packages/matplotlib/axes/_axes.py:6462: UserWarning: The 'normed' kwarg is deprecated, and has been replaced by the 'density' kwarg.\n",
      "  warnings.warn(\"The 'normed' kwarg is deprecated, and has been \"\n"
     ]
    },
    {
     "data": {
      "text/plain": [
       "<matplotlib.axes._subplots.AxesSubplot at 0x7f2a2d8cf5c0>"
      ]
     },
     "execution_count": 32,
     "metadata": {},
     "output_type": "execute_result"
    },
    {
     "data": {
      "image/png": "[encoded data removed]",
      "text/plain": [
       "<Figure size 432x288 with 1 Axes>"
      ]
     },
     "metadata": {},
     "output_type": "display_data"
    }
   ],
   "source": [
    "plt.title('Fig. 2. Distplot of Sales Price')\n",
    "sns.distplot(df['Sales Price'])"
   ]
  },
  {
   "cell_type": "code",
   "execution_count": 33,
   "metadata": {
    "scrolled": false
   },
   "outputs": [
    {
     "data": {
      "text/plain": [
       "(5495, 10)"
      ]
     },
     "execution_count": 33,
     "metadata": {},
     "output_type": "execute_result"
    }
   ],
   "source": [
    "df.loc[df['Sales Price']==0].shape"
   ]
  },
  {
   "cell_type": "markdown",
   "metadata": {},
   "source": [
    "<font color='blue'>Comment</font>: The distplot looks similar to the distplot of MRP. Sales_Price=0 need to be checked with Sale/Return status.\n",
    "<font color='blue'>Next</font>: Check the values of Sales Price where MRP=0"
   ]
  },
  {
   "cell_type": "markdown",
   "metadata": {},
   "source": [
    "### Exploring rows with anomalous feature values"
   ]
  },
  {
   "cell_type": "code",
   "execution_count": 34,
   "metadata": {},
   "outputs": [
    {
     "data": {
      "text/plain": [
       "(754, 10)"
      ]
     },
     "execution_count": 34,
     "metadata": {},
     "output_type": "execute_result"
    }
   ],
   "source": [
    "df.loc[(df['MRP']==0)&(df['Sales Price']==0)].shape"
   ]
  },
  {
   "cell_type": "markdown",
   "metadata": {},
   "source": [
    "<font color='blue'>Comment</font>: There are 754 entries with MRP=0 as well as Sales_Price=0. However, there are 855 records with MRP=0.\n",
    "<font color='blue'>Next</font>: Check where MRP=0 and Sales_Price=0 as well as check where MRP=0 and Sales_Price != 0"
   ]
  },
  {
   "cell_type": "code",
   "execution_count": 35,
   "metadata": {},
   "outputs": [
    {
     "data": {
      "text/html": [
       "<div>\n",
       "<style scoped>\n",
       "    .dataframe tbody tr th:only-of-type {\n",
       "        vertical-align: middle;\n",
       "    }\n",
       "\n",
       "    .dataframe tbody tr th {\n",
       "        vertical-align: top;\n",
       "    }\n",
       "\n",
       "    .dataframe thead th {\n",
       "        text-align: right;\n",
       "    }\n",
       "</style>\n",
       "<table border=\"1\" class=\"dataframe\">\n",
       "  <thead>\n",
       "    <tr style=\"text-align: right;\">\n",
       "      <th></th>\n",
       "      <th>SKU Code</th>\n",
       "      <th>Brand Code</th>\n",
       "      <th>Category</th>\n",
       "      <th>Bill Number</th>\n",
       "      <th>Store Code</th>\n",
       "      <th>Sale Date</th>\n",
       "      <th>Sale/Return</th>\n",
       "      <th>MRP</th>\n",
       "      <th>Sales Price</th>\n",
       "      <th>Sales Qty</th>\n",
       "    </tr>\n",
       "  </thead>\n",
       "  <tbody>\n",
       "    <tr>\n",
       "      <th>7246</th>\n",
       "      <td>SKU0650</td>\n",
       "      <td>BRAND027</td>\n",
       "      <td>Cat04</td>\n",
       "      <td>BILL18260</td>\n",
       "      <td>Store 1</td>\n",
       "      <td>2017-12-01</td>\n",
       "      <td>Sale</td>\n",
       "      <td>0.0</td>\n",
       "      <td>1.33</td>\n",
       "      <td>1</td>\n",
       "    </tr>\n",
       "    <tr>\n",
       "      <th>7247</th>\n",
       "      <td>SKU0631</td>\n",
       "      <td>BRAND027</td>\n",
       "      <td>Cat04</td>\n",
       "      <td>BILL18260</td>\n",
       "      <td>Store 1</td>\n",
       "      <td>2017-12-01</td>\n",
       "      <td>Sale</td>\n",
       "      <td>0.0</td>\n",
       "      <td>1.33</td>\n",
       "      <td>2</td>\n",
       "    </tr>\n",
       "  </tbody>\n",
       "</table>\n",
       "</div>"
      ],
      "text/plain": [
       "     SKU Code Brand Code Category Bill Number Store Code   Sale Date  \\\n",
       "7246  SKU0650   BRAND027    Cat04   BILL18260    Store 1  2017-12-01   \n",
       "7247  SKU0631   BRAND027    Cat04   BILL18260    Store 1  2017-12-01   \n",
       "\n",
       "     Sale/Return  MRP  Sales Price  Sales Qty  \n",
       "7246        Sale  0.0         1.33          1  \n",
       "7247        Sale  0.0         1.33          2  "
      ]
     },
     "execution_count": 35,
     "metadata": {},
     "output_type": "execute_result"
    }
   ],
   "source": [
    "# printing head for aesthetic reasons - too many rows were making the notebook too long.\n",
    "# In reality, all the rows should be gone through to explore df['MRP']==0)&(df['Sales Price']!=0\n",
    "df.loc[(df['MRP']==0)&(df['Sales Price']!=0)].head(2)"
   ]
  },
  {
   "cell_type": "markdown",
   "metadata": {},
   "source": [
    "<font color='blue'>Comment</font>: All the sales made with MRP=0 and Sales_Price=0 look to be legit sales based on other field values. MRP=0 seems to be an error during data entry. Possible workarounds could be imputing the values based on existing values in the MRP field, but it may not make much sense because the Sales_Price goes from Re. 1 to few 100 rupees.\n",
    "<font color='blue'>Next</font>: Check values of other features."
   ]
  },
  {
   "cell_type": "code",
   "execution_count": 36,
   "metadata": {},
   "outputs": [
    {
     "data": {
      "text/plain": [
       "SKU Code        object\n",
       "Brand Code      object\n",
       "Category        object\n",
       "Bill Number     object\n",
       "Store Code      object\n",
       "Sale Date       object\n",
       "Sale/Return     object\n",
       "MRP            float64\n",
       "Sales Price    float64\n",
       "Sales Qty        int64\n",
       "dtype: object"
      ]
     },
     "execution_count": 36,
     "metadata": {},
     "output_type": "execute_result"
    }
   ],
   "source": [
    "df.dtypes"
   ]
  },
  {
   "cell_type": "code",
   "execution_count": 37,
   "metadata": {},
   "outputs": [
    {
     "data": {
      "text/plain": [
       " 1    61119\n",
       " 2     1282\n",
       " 3      280\n",
       "-1      183\n",
       " 4      102\n",
       " 0       57\n",
       " 5       38\n",
       " 7       24\n",
       " 6       21\n",
       "-2        5\n",
       "-4        1\n",
       " 8        1\n",
       "Name: Sales Qty, dtype: int64"
      ]
     },
     "execution_count": 37,
     "metadata": {},
     "output_type": "execute_result"
    }
   ],
   "source": [
    "df['Sales Qty'].value_counts()"
   ]
  },
  {
   "cell_type": "markdown",
   "metadata": {},
   "source": [
    "<font color='blue'>Comment</font>: Negative values for Sales Qty, and Sales Qty=0. Negative values are errors for sure. Sales Qty=0 would be wrong if there is a non-zero Sales_Price corresponding to it.\n",
    "<br>\n",
    "<font color='blue'>Next</font>: Explore rows corresponding to negative and zero values in Sales Qty column. </font>"
   ]
  },
  {
   "cell_type": "code",
   "execution_count": 38,
   "metadata": {},
   "outputs": [
    {
     "name": "stdout",
     "output_type": "stream",
     "text": [
      "(189, 10) (57, 10)\n"
     ]
    }
   ],
   "source": [
    "print(df.loc[df['Sales Qty']<0].shape, df.loc[df['Sales Qty']==0].shape)"
   ]
  },
  {
   "cell_type": "code",
   "execution_count": 39,
   "metadata": {},
   "outputs": [
    {
     "data": {
      "text/html": [
       "<div>\n",
       "<style scoped>\n",
       "    .dataframe tbody tr th:only-of-type {\n",
       "        vertical-align: middle;\n",
       "    }\n",
       "\n",
       "    .dataframe tbody tr th {\n",
       "        vertical-align: top;\n",
       "    }\n",
       "\n",
       "    .dataframe thead th {\n",
       "        text-align: right;\n",
       "    }\n",
       "</style>\n",
       "<table border=\"1\" class=\"dataframe\">\n",
       "  <thead>\n",
       "    <tr style=\"text-align: right;\">\n",
       "      <th></th>\n",
       "      <th>SKU Code</th>\n",
       "      <th>Brand Code</th>\n",
       "      <th>Category</th>\n",
       "      <th>Bill Number</th>\n",
       "      <th>Store Code</th>\n",
       "      <th>Sale Date</th>\n",
       "      <th>Sale/Return</th>\n",
       "      <th>MRP</th>\n",
       "      <th>Sales Price</th>\n",
       "      <th>Sales Qty</th>\n",
       "    </tr>\n",
       "  </thead>\n",
       "  <tbody>\n",
       "    <tr>\n",
       "      <th>0</th>\n",
       "      <td>SKU1181</td>\n",
       "      <td>BRAND041</td>\n",
       "      <td>Cat06</td>\n",
       "      <td>BILL06415</td>\n",
       "      <td>Store 1</td>\n",
       "      <td>2017-05-18</td>\n",
       "      <td>Return</td>\n",
       "      <td>0.01</td>\n",
       "      <td>0.01</td>\n",
       "      <td>-1</td>\n",
       "    </tr>\n",
       "    <tr>\n",
       "      <th>2</th>\n",
       "      <td>SKU1465</td>\n",
       "      <td>BRAND018</td>\n",
       "      <td>Cat07</td>\n",
       "      <td>BILL06417</td>\n",
       "      <td>Store 1</td>\n",
       "      <td>2017-07-01</td>\n",
       "      <td>Return</td>\n",
       "      <td>20.00</td>\n",
       "      <td>20.00</td>\n",
       "      <td>-1</td>\n",
       "    </tr>\n",
       "  </tbody>\n",
       "</table>\n",
       "</div>"
      ],
      "text/plain": [
       "  SKU Code Brand Code Category Bill Number Store Code   Sale Date Sale/Return  \\\n",
       "0  SKU1181   BRAND041    Cat06   BILL06415    Store 1  2017-05-18      Return   \n",
       "2  SKU1465   BRAND018    Cat07   BILL06417    Store 1  2017-07-01      Return   \n",
       "\n",
       "     MRP  Sales Price  Sales Qty  \n",
       "0   0.01         0.01         -1  \n",
       "2  20.00        20.00         -1  "
      ]
     },
     "execution_count": 39,
     "metadata": {},
     "output_type": "execute_result"
    }
   ],
   "source": [
    "# printing head for aesthetic reasons - too many rows were making the notebook too long.\n",
    "# In reality, all the rows should be gone through to explore Sales_Qty<0\n",
    "df.loc[df['Sales Qty']<0].head(2)"
   ]
  },
  {
   "cell_type": "code",
   "execution_count": 40,
   "metadata": {},
   "outputs": [
    {
     "data": {
      "text/html": [
       "<div>\n",
       "<style scoped>\n",
       "    .dataframe tbody tr th:only-of-type {\n",
       "        vertical-align: middle;\n",
       "    }\n",
       "\n",
       "    .dataframe tbody tr th {\n",
       "        vertical-align: top;\n",
       "    }\n",
       "\n",
       "    .dataframe thead th {\n",
       "        text-align: right;\n",
       "    }\n",
       "</style>\n",
       "<table border=\"1\" class=\"dataframe\">\n",
       "  <thead>\n",
       "    <tr style=\"text-align: right;\">\n",
       "      <th></th>\n",
       "      <th>SKU Code</th>\n",
       "      <th>Brand Code</th>\n",
       "      <th>Category</th>\n",
       "      <th>Bill Number</th>\n",
       "      <th>Store Code</th>\n",
       "      <th>Sale Date</th>\n",
       "      <th>Sale/Return</th>\n",
       "      <th>MRP</th>\n",
       "      <th>Sales Price</th>\n",
       "      <th>Sales Qty</th>\n",
       "    </tr>\n",
       "  </thead>\n",
       "  <tbody>\n",
       "    <tr>\n",
       "      <th>5101</th>\n",
       "      <td>SKU2134</td>\n",
       "      <td>BRAND050</td>\n",
       "      <td>Cat04</td>\n",
       "      <td>BILL14422</td>\n",
       "      <td>Store 1</td>\n",
       "      <td>2017-10-26</td>\n",
       "      <td>Sale</td>\n",
       "      <td>1.33</td>\n",
       "      <td>1.33</td>\n",
       "      <td>0</td>\n",
       "    </tr>\n",
       "    <tr>\n",
       "      <th>8556</th>\n",
       "      <td>SKU0642</td>\n",
       "      <td>BRAND027</td>\n",
       "      <td>Cat04</td>\n",
       "      <td>BILL25109</td>\n",
       "      <td>Store 4</td>\n",
       "      <td>2018-02-04</td>\n",
       "      <td>Sale</td>\n",
       "      <td>1.33</td>\n",
       "      <td>1.33</td>\n",
       "      <td>0</td>\n",
       "    </tr>\n",
       "  </tbody>\n",
       "</table>\n",
       "</div>"
      ],
      "text/plain": [
       "     SKU Code Brand Code Category Bill Number Store Code   Sale Date  \\\n",
       "5101  SKU2134   BRAND050    Cat04   BILL14422    Store 1  2017-10-26   \n",
       "8556  SKU0642   BRAND027    Cat04   BILL25109    Store 4  2018-02-04   \n",
       "\n",
       "     Sale/Return   MRP  Sales Price  Sales Qty  \n",
       "5101        Sale  1.33         1.33          0  \n",
       "8556        Sale  1.33         1.33          0  "
      ]
     },
     "execution_count": 40,
     "metadata": {},
     "output_type": "execute_result"
    }
   ],
   "source": [
    "# printing head for aesthetic reasons - too many rows were making the notebook too long.\n",
    "# In reality, all the rows should be gone through to explore Sales_Qty=0\n",
    "df.loc[df['Sales Qty']==0].head(2)"
   ]
  },
  {
   "cell_type": "markdown",
   "metadata": {},
   "source": [
    "<font color='blue'>Comment</font>: All the sales look legit even though the corresponding Sales Qty values are negative and zero.\n",
    "<br>\n",
    "<font color='blue'>Next</font>: All the features are explored for possible plausible avenues. </font>"
   ]
  },
  {
   "cell_type": "code",
   "execution_count": 41,
   "metadata": {},
   "outputs": [
    {
     "data": {
      "text/plain": [
       "SKU Code        object\n",
       "Brand Code      object\n",
       "Category        object\n",
       "Bill Number     object\n",
       "Store Code      object\n",
       "Sale Date       object\n",
       "Sale/Return     object\n",
       "MRP            float64\n",
       "Sales Price    float64\n",
       "Sales Qty        int64\n",
       "dtype: object"
      ]
     },
     "execution_count": 41,
     "metadata": {},
     "output_type": "execute_result"
    }
   ],
   "source": [
    "df.dtypes"
   ]
  },
  {
   "cell_type": "code",
   "execution_count": 42,
   "metadata": {},
   "outputs": [
    {
     "data": {
      "text/html": [
       "<div>\n",
       "<style scoped>\n",
       "    .dataframe tbody tr th:only-of-type {\n",
       "        vertical-align: middle;\n",
       "    }\n",
       "\n",
       "    .dataframe tbody tr th {\n",
       "        vertical-align: top;\n",
       "    }\n",
       "\n",
       "    .dataframe thead th {\n",
       "        text-align: right;\n",
       "    }\n",
       "</style>\n",
       "<table border=\"1\" class=\"dataframe\">\n",
       "  <thead>\n",
       "    <tr style=\"text-align: right;\">\n",
       "      <th></th>\n",
       "      <th>SKU Code</th>\n",
       "      <th>Brand Code</th>\n",
       "      <th>Category</th>\n",
       "      <th>Bill Number</th>\n",
       "      <th>Store Code</th>\n",
       "      <th>Sale Date</th>\n",
       "      <th>Sale/Return</th>\n",
       "      <th>MRP</th>\n",
       "      <th>Sales Price</th>\n",
       "      <th>Sales Qty</th>\n",
       "    </tr>\n",
       "  </thead>\n",
       "  <tbody>\n",
       "    <tr>\n",
       "      <th>0</th>\n",
       "      <td>SKU1181</td>\n",
       "      <td>BRAND041</td>\n",
       "      <td>Cat06</td>\n",
       "      <td>BILL06415</td>\n",
       "      <td>Store 1</td>\n",
       "      <td>2017-05-18</td>\n",
       "      <td>Return</td>\n",
       "      <td>0.01</td>\n",
       "      <td>0.01</td>\n",
       "      <td>-1</td>\n",
       "    </tr>\n",
       "    <tr>\n",
       "      <th>1</th>\n",
       "      <td>SKU0457</td>\n",
       "      <td>BRAND011</td>\n",
       "      <td>Cat01</td>\n",
       "      <td>BILL06416</td>\n",
       "      <td>Store 1</td>\n",
       "      <td>2017-05-22</td>\n",
       "      <td>Sale</td>\n",
       "      <td>72.00</td>\n",
       "      <td>72.67</td>\n",
       "      <td>2</td>\n",
       "    </tr>\n",
       "  </tbody>\n",
       "</table>\n",
       "</div>"
      ],
      "text/plain": [
       "  SKU Code Brand Code Category Bill Number Store Code   Sale Date Sale/Return  \\\n",
       "0  SKU1181   BRAND041    Cat06   BILL06415    Store 1  2017-05-18      Return   \n",
       "1  SKU0457   BRAND011    Cat01   BILL06416    Store 1  2017-05-22        Sale   \n",
       "\n",
       "     MRP  Sales Price  Sales Qty  \n",
       "0   0.01         0.01         -1  \n",
       "1  72.00        72.67          2  "
      ]
     },
     "execution_count": 42,
     "metadata": {},
     "output_type": "execute_result"
    }
   ],
   "source": [
    "df.head(2)"
   ]
  },
  {
   "cell_type": "code",
   "execution_count": 43,
   "metadata": {},
   "outputs": [
    {
     "data": {
      "text/plain": [
       "(1699, 10)"
      ]
     },
     "execution_count": 43,
     "metadata": {},
     "output_type": "execute_result"
    }
   ],
   "source": [
    "df.loc[df['MRP']<df['Sales Price']].shape"
   ]
  },
  {
   "cell_type": "code",
   "execution_count": 44,
   "metadata": {},
   "outputs": [
    {
     "data": {
      "text/html": [
       "<div>\n",
       "<style scoped>\n",
       "    .dataframe tbody tr th:only-of-type {\n",
       "        vertical-align: middle;\n",
       "    }\n",
       "\n",
       "    .dataframe tbody tr th {\n",
       "        vertical-align: top;\n",
       "    }\n",
       "\n",
       "    .dataframe thead th {\n",
       "        text-align: right;\n",
       "    }\n",
       "</style>\n",
       "<table border=\"1\" class=\"dataframe\">\n",
       "  <thead>\n",
       "    <tr style=\"text-align: right;\">\n",
       "      <th></th>\n",
       "      <th>SKU Code</th>\n",
       "      <th>Brand Code</th>\n",
       "      <th>Category</th>\n",
       "      <th>Bill Number</th>\n",
       "      <th>Store Code</th>\n",
       "      <th>Sale Date</th>\n",
       "      <th>Sale/Return</th>\n",
       "      <th>MRP</th>\n",
       "      <th>Sales Price</th>\n",
       "      <th>Sales Qty</th>\n",
       "    </tr>\n",
       "  </thead>\n",
       "  <tbody>\n",
       "    <tr>\n",
       "      <th>1</th>\n",
       "      <td>SKU0457</td>\n",
       "      <td>BRAND011</td>\n",
       "      <td>Cat01</td>\n",
       "      <td>BILL06416</td>\n",
       "      <td>Store 1</td>\n",
       "      <td>2017-05-22</td>\n",
       "      <td>Sale</td>\n",
       "      <td>72.00</td>\n",
       "      <td>72.67</td>\n",
       "      <td>2</td>\n",
       "    </tr>\n",
       "    <tr>\n",
       "      <th>1327</th>\n",
       "      <td>SKU0414</td>\n",
       "      <td>BRAND017</td>\n",
       "      <td>Cat01</td>\n",
       "      <td>BILL07140</td>\n",
       "      <td>Store 1</td>\n",
       "      <td>2017-08-13</td>\n",
       "      <td>Sale</td>\n",
       "      <td>89.33</td>\n",
       "      <td>93.33</td>\n",
       "      <td>1</td>\n",
       "    </tr>\n",
       "    <tr>\n",
       "      <th>1474</th>\n",
       "      <td>SKU0336</td>\n",
       "      <td>BRAND017</td>\n",
       "      <td>Cat01</td>\n",
       "      <td>BILL07250</td>\n",
       "      <td>Store 1</td>\n",
       "      <td>2017-08-23</td>\n",
       "      <td>Sale</td>\n",
       "      <td>89.33</td>\n",
       "      <td>93.33</td>\n",
       "      <td>1</td>\n",
       "    </tr>\n",
       "    <tr>\n",
       "      <th>1544</th>\n",
       "      <td>SKU0336</td>\n",
       "      <td>BRAND017</td>\n",
       "      <td>Cat01</td>\n",
       "      <td>BILL07275</td>\n",
       "      <td>Store 1</td>\n",
       "      <td>2017-08-24</td>\n",
       "      <td>Sale</td>\n",
       "      <td>89.33</td>\n",
       "      <td>93.33</td>\n",
       "      <td>1</td>\n",
       "    </tr>\n",
       "    <tr>\n",
       "      <th>3024</th>\n",
       "      <td>SKU2149</td>\n",
       "      <td>BRAND027</td>\n",
       "      <td>Cat04</td>\n",
       "      <td>BILL07804</td>\n",
       "      <td>Store 1</td>\n",
       "      <td>2017-09-24</td>\n",
       "      <td>Sale</td>\n",
       "      <td>1.33</td>\n",
       "      <td>4.00</td>\n",
       "      <td>1</td>\n",
       "    </tr>\n",
       "  </tbody>\n",
       "</table>\n",
       "</div>"
      ],
      "text/plain": [
       "     SKU Code Brand Code Category Bill Number Store Code   Sale Date  \\\n",
       "1     SKU0457   BRAND011    Cat01   BILL06416    Store 1  2017-05-22   \n",
       "1327  SKU0414   BRAND017    Cat01   BILL07140    Store 1  2017-08-13   \n",
       "1474  SKU0336   BRAND017    Cat01   BILL07250    Store 1  2017-08-23   \n",
       "1544  SKU0336   BRAND017    Cat01   BILL07275    Store 1  2017-08-24   \n",
       "3024  SKU2149   BRAND027    Cat04   BILL07804    Store 1  2017-09-24   \n",
       "\n",
       "     Sale/Return    MRP  Sales Price  Sales Qty  \n",
       "1           Sale  72.00        72.67          2  \n",
       "1327        Sale  89.33        93.33          1  \n",
       "1474        Sale  89.33        93.33          1  \n",
       "1544        Sale  89.33        93.33          1  \n",
       "3024        Sale   1.33         4.00          1  "
      ]
     },
     "execution_count": 44,
     "metadata": {},
     "output_type": "execute_result"
    }
   ],
   "source": [
    "df.loc[df['MRP']<df['Sales Price']].head()"
   ]
  },
  {
   "cell_type": "code",
   "execution_count": 45,
   "metadata": {},
   "outputs": [
    {
     "data": {
      "text/html": [
       "<div>\n",
       "<style scoped>\n",
       "    .dataframe tbody tr th:only-of-type {\n",
       "        vertical-align: middle;\n",
       "    }\n",
       "\n",
       "    .dataframe tbody tr th {\n",
       "        vertical-align: top;\n",
       "    }\n",
       "\n",
       "    .dataframe thead th {\n",
       "        text-align: right;\n",
       "    }\n",
       "</style>\n",
       "<table border=\"1\" class=\"dataframe\">\n",
       "  <thead>\n",
       "    <tr style=\"text-align: right;\">\n",
       "      <th></th>\n",
       "      <th>SKU Code</th>\n",
       "      <th>Brand Code</th>\n",
       "      <th>Category</th>\n",
       "      <th>Bill Number</th>\n",
       "      <th>Store Code</th>\n",
       "      <th>Sale Date</th>\n",
       "      <th>Sale/Return</th>\n",
       "      <th>MRP</th>\n",
       "      <th>Sales Price</th>\n",
       "      <th>Sales Qty</th>\n",
       "    </tr>\n",
       "  </thead>\n",
       "  <tbody>\n",
       "    <tr>\n",
       "      <th>1</th>\n",
       "      <td>SKU0457</td>\n",
       "      <td>BRAND011</td>\n",
       "      <td>Cat01</td>\n",
       "      <td>BILL06416</td>\n",
       "      <td>Store 1</td>\n",
       "      <td>2017-05-22</td>\n",
       "      <td>Sale</td>\n",
       "      <td>72.0</td>\n",
       "      <td>72.67</td>\n",
       "      <td>2</td>\n",
       "    </tr>\n",
       "    <tr>\n",
       "      <th>6231</th>\n",
       "      <td>SKU1131</td>\n",
       "      <td>BRAND018</td>\n",
       "      <td>Cat07</td>\n",
       "      <td>BILL16296</td>\n",
       "      <td>Store 1</td>\n",
       "      <td>2017-11-19</td>\n",
       "      <td>Sale</td>\n",
       "      <td>17.2</td>\n",
       "      <td>19.33</td>\n",
       "      <td>2</td>\n",
       "    </tr>\n",
       "    <tr>\n",
       "      <th>7247</th>\n",
       "      <td>SKU0631</td>\n",
       "      <td>BRAND027</td>\n",
       "      <td>Cat04</td>\n",
       "      <td>BILL18260</td>\n",
       "      <td>Store 1</td>\n",
       "      <td>2017-12-01</td>\n",
       "      <td>Sale</td>\n",
       "      <td>0.0</td>\n",
       "      <td>1.33</td>\n",
       "      <td>2</td>\n",
       "    </tr>\n",
       "    <tr>\n",
       "      <th>9122</th>\n",
       "      <td>SKU3676</td>\n",
       "      <td>BRAND048</td>\n",
       "      <td>Cat04</td>\n",
       "      <td>BILL22171</td>\n",
       "      <td>Store 1</td>\n",
       "      <td>2018-01-04</td>\n",
       "      <td>Sale</td>\n",
       "      <td>0.0</td>\n",
       "      <td>0.01</td>\n",
       "      <td>2</td>\n",
       "    </tr>\n",
       "    <tr>\n",
       "      <th>7294</th>\n",
       "      <td>SKU2355</td>\n",
       "      <td>BRAND023</td>\n",
       "      <td>Cat07</td>\n",
       "      <td>BILL22461</td>\n",
       "      <td>Store 4</td>\n",
       "      <td>2018-01-14</td>\n",
       "      <td>Sale</td>\n",
       "      <td>7.0</td>\n",
       "      <td>7.33</td>\n",
       "      <td>2</td>\n",
       "    </tr>\n",
       "  </tbody>\n",
       "</table>\n",
       "</div>"
      ],
      "text/plain": [
       "     SKU Code Brand Code Category Bill Number Store Code   Sale Date  \\\n",
       "1     SKU0457   BRAND011    Cat01   BILL06416    Store 1  2017-05-22   \n",
       "6231  SKU1131   BRAND018    Cat07   BILL16296    Store 1  2017-11-19   \n",
       "7247  SKU0631   BRAND027    Cat04   BILL18260    Store 1  2017-12-01   \n",
       "9122  SKU3676   BRAND048    Cat04   BILL22171    Store 1  2018-01-04   \n",
       "7294  SKU2355   BRAND023    Cat07   BILL22461    Store 4  2018-01-14   \n",
       "\n",
       "     Sale/Return   MRP  Sales Price  Sales Qty  \n",
       "1           Sale  72.0        72.67          2  \n",
       "6231        Sale  17.2        19.33          2  \n",
       "7247        Sale   0.0         1.33          2  \n",
       "9122        Sale   0.0         0.01          2  \n",
       "7294        Sale   7.0         7.33          2  "
      ]
     },
     "execution_count": 45,
     "metadata": {},
     "output_type": "execute_result"
    }
   ],
   "source": [
    "df.loc[(df['MRP']<df['Sales Price'])&(df['Sales Qty']>1)].head()"
   ]
  },
  {
   "cell_type": "code",
   "execution_count": 46,
   "metadata": {},
   "outputs": [
    {
     "data": {
      "text/html": [
       "<div>\n",
       "<style scoped>\n",
       "    .dataframe tbody tr th:only-of-type {\n",
       "        vertical-align: middle;\n",
       "    }\n",
       "\n",
       "    .dataframe tbody tr th {\n",
       "        vertical-align: top;\n",
       "    }\n",
       "\n",
       "    .dataframe thead th {\n",
       "        text-align: right;\n",
       "    }\n",
       "</style>\n",
       "<table border=\"1\" class=\"dataframe\">\n",
       "  <thead>\n",
       "    <tr style=\"text-align: right;\">\n",
       "      <th></th>\n",
       "      <th>SKU Code</th>\n",
       "      <th>Brand Code</th>\n",
       "      <th>Category</th>\n",
       "      <th>Bill Number</th>\n",
       "      <th>Store Code</th>\n",
       "      <th>Sale Date</th>\n",
       "      <th>Sale/Return</th>\n",
       "      <th>MRP</th>\n",
       "      <th>Sales Price</th>\n",
       "      <th>Sales Qty</th>\n",
       "    </tr>\n",
       "  </thead>\n",
       "  <tbody>\n",
       "    <tr>\n",
       "      <th>1</th>\n",
       "      <td>SKU0457</td>\n",
       "      <td>BRAND011</td>\n",
       "      <td>Cat01</td>\n",
       "      <td>BILL06416</td>\n",
       "      <td>Store 1</td>\n",
       "      <td>2017-05-22</td>\n",
       "      <td>Sale</td>\n",
       "      <td>72.00</td>\n",
       "      <td>72.67</td>\n",
       "      <td>2</td>\n",
       "    </tr>\n",
       "    <tr>\n",
       "      <th>6231</th>\n",
       "      <td>SKU1131</td>\n",
       "      <td>BRAND018</td>\n",
       "      <td>Cat07</td>\n",
       "      <td>BILL16296</td>\n",
       "      <td>Store 1</td>\n",
       "      <td>2017-11-19</td>\n",
       "      <td>Sale</td>\n",
       "      <td>17.20</td>\n",
       "      <td>19.33</td>\n",
       "      <td>2</td>\n",
       "    </tr>\n",
       "    <tr>\n",
       "      <th>7247</th>\n",
       "      <td>SKU0631</td>\n",
       "      <td>BRAND027</td>\n",
       "      <td>Cat04</td>\n",
       "      <td>BILL18260</td>\n",
       "      <td>Store 1</td>\n",
       "      <td>2017-12-01</td>\n",
       "      <td>Sale</td>\n",
       "      <td>0.00</td>\n",
       "      <td>1.33</td>\n",
       "      <td>2</td>\n",
       "    </tr>\n",
       "    <tr>\n",
       "      <th>9122</th>\n",
       "      <td>SKU3676</td>\n",
       "      <td>BRAND048</td>\n",
       "      <td>Cat04</td>\n",
       "      <td>BILL22171</td>\n",
       "      <td>Store 1</td>\n",
       "      <td>2018-01-04</td>\n",
       "      <td>Sale</td>\n",
       "      <td>0.00</td>\n",
       "      <td>0.01</td>\n",
       "      <td>2</td>\n",
       "    </tr>\n",
       "    <tr>\n",
       "      <th>7294</th>\n",
       "      <td>SKU2355</td>\n",
       "      <td>BRAND023</td>\n",
       "      <td>Cat07</td>\n",
       "      <td>BILL22461</td>\n",
       "      <td>Store 4</td>\n",
       "      <td>2018-01-14</td>\n",
       "      <td>Sale</td>\n",
       "      <td>7.00</td>\n",
       "      <td>7.33</td>\n",
       "      <td>2</td>\n",
       "    </tr>\n",
       "    <tr>\n",
       "      <th>7446</th>\n",
       "      <td>SKU2227</td>\n",
       "      <td>BRAND056</td>\n",
       "      <td>Cat07</td>\n",
       "      <td>BILL22768</td>\n",
       "      <td>Store 4</td>\n",
       "      <td>2018-01-11</td>\n",
       "      <td>Sale</td>\n",
       "      <td>13.33</td>\n",
       "      <td>14.00</td>\n",
       "      <td>2</td>\n",
       "    </tr>\n",
       "    <tr>\n",
       "      <th>845</th>\n",
       "      <td>SKU0626</td>\n",
       "      <td>BRAND027</td>\n",
       "      <td>Cat04</td>\n",
       "      <td>BILL09462</td>\n",
       "      <td>Store 3</td>\n",
       "      <td>2017-09-11</td>\n",
       "      <td>Sale</td>\n",
       "      <td>2.00</td>\n",
       "      <td>5.20</td>\n",
       "      <td>2</td>\n",
       "    </tr>\n",
       "    <tr>\n",
       "      <th>2007</th>\n",
       "      <td>SKU2229</td>\n",
       "      <td>BRAND058</td>\n",
       "      <td>Cat02</td>\n",
       "      <td>BILL12797</td>\n",
       "      <td>Store 3</td>\n",
       "      <td>2017-10-14</td>\n",
       "      <td>Sale</td>\n",
       "      <td>5.47</td>\n",
       "      <td>6.00</td>\n",
       "      <td>2</td>\n",
       "    </tr>\n",
       "  </tbody>\n",
       "</table>\n",
       "</div>"
      ],
      "text/plain": [
       "     SKU Code Brand Code Category Bill Number Store Code   Sale Date  \\\n",
       "1     SKU0457   BRAND011    Cat01   BILL06416    Store 1  2017-05-22   \n",
       "6231  SKU1131   BRAND018    Cat07   BILL16296    Store 1  2017-11-19   \n",
       "7247  SKU0631   BRAND027    Cat04   BILL18260    Store 1  2017-12-01   \n",
       "9122  SKU3676   BRAND048    Cat04   BILL22171    Store 1  2018-01-04   \n",
       "7294  SKU2355   BRAND023    Cat07   BILL22461    Store 4  2018-01-14   \n",
       "7446  SKU2227   BRAND056    Cat07   BILL22768    Store 4  2018-01-11   \n",
       "845   SKU0626   BRAND027    Cat04   BILL09462    Store 3  2017-09-11   \n",
       "2007  SKU2229   BRAND058    Cat02   BILL12797    Store 3  2017-10-14   \n",
       "\n",
       "     Sale/Return    MRP  Sales Price  Sales Qty  \n",
       "1           Sale  72.00        72.67          2  \n",
       "6231        Sale  17.20        19.33          2  \n",
       "7247        Sale   0.00         1.33          2  \n",
       "9122        Sale   0.00         0.01          2  \n",
       "7294        Sale   7.00         7.33          2  \n",
       "7446        Sale  13.33        14.00          2  \n",
       "845         Sale   2.00         5.20          2  \n",
       "2007        Sale   5.47         6.00          2  "
      ]
     },
     "execution_count": 46,
     "metadata": {},
     "output_type": "execute_result"
    }
   ],
   "source": [
    "df.loc[(df['MRP']<df['Sales Price'])&(df['Sales Qty']>1)].head(20)"
   ]
  },
  {
   "cell_type": "code",
   "execution_count": 47,
   "metadata": {},
   "outputs": [
    {
     "name": "stdout",
     "output_type": "stream",
     "text": [
      "0.0 213.32\n"
     ]
    }
   ],
   "source": [
    "print(df['MRP'].min(), df['MRP'].max())"
   ]
  },
  {
   "cell_type": "code",
   "execution_count": 48,
   "metadata": {},
   "outputs": [
    {
     "name": "stdout",
     "output_type": "stream",
     "text": [
      "0.0 213.32\n"
     ]
    }
   ],
   "source": [
    "print(df['Sales Price'].min(), df['Sales Price'].max())"
   ]
  },
  {
   "cell_type": "code",
   "execution_count": 49,
   "metadata": {},
   "outputs": [
    {
     "name": "stdout",
     "output_type": "stream",
     "text": [
      "20.819701012469356 20.904964428881662\n"
     ]
    }
   ],
   "source": [
    "print(df['Sales Price'].mean(), df['MRP'].mean())"
   ]
  },
  {
   "cell_type": "code",
   "execution_count": 50,
   "metadata": {},
   "outputs": [
    {
     "name": "stdout",
     "output_type": "stream",
     "text": [
      "7.33 7.67\n"
     ]
    }
   ],
   "source": [
    "print(df['Sales Price'].median(), df['MRP'].median())"
   ]
  },
  {
   "cell_type": "markdown",
   "metadata": {},
   "source": [
    "<font color='blue'>Comment</font>:<br>\n",
    "1. Sales_Price>MRP. Error in data entry, or were customers cheated? Again, an issue with the dataset that is difficult to be imputed/corrected without information from the actual sellers. <br>\n",
    "2. From the data, it is unclear if MRP and/or Sales_Price is mentioned for one item or for as many items as had been purchased in a particular sale. If MRP is for one item, and the Sales_Price is also to be assumed for one item (because the two are actually very close- also mean and median are essentially equal). If this is not the case, then possibly the data is wrong or the customers were overcharged.\n",
    "<br>\n",
    "<font color='blue'>Next</font>: No other combinations seem plausible to be checked against each other. </font>"
   ]
  },
  {
   "cell_type": "code",
   "execution_count": 51,
   "metadata": {},
   "outputs": [
    {
     "data": {
      "text/plain": [
       "(5495, 10)"
      ]
     },
     "execution_count": 51,
     "metadata": {},
     "output_type": "execute_result"
    }
   ],
   "source": [
    "df.loc[df['Sales Price']==0].shape"
   ]
  },
  {
   "cell_type": "code",
   "execution_count": 52,
   "metadata": {},
   "outputs": [
    {
     "data": {
      "text/html": [
       "<div>\n",
       "<style scoped>\n",
       "    .dataframe tbody tr th:only-of-type {\n",
       "        vertical-align: middle;\n",
       "    }\n",
       "\n",
       "    .dataframe tbody tr th {\n",
       "        vertical-align: top;\n",
       "    }\n",
       "\n",
       "    .dataframe thead th {\n",
       "        text-align: right;\n",
       "    }\n",
       "</style>\n",
       "<table border=\"1\" class=\"dataframe\">\n",
       "  <thead>\n",
       "    <tr style=\"text-align: right;\">\n",
       "      <th></th>\n",
       "      <th>SKU Code</th>\n",
       "      <th>Brand Code</th>\n",
       "      <th>Category</th>\n",
       "      <th>Bill Number</th>\n",
       "      <th>Store Code</th>\n",
       "      <th>Sale Date</th>\n",
       "      <th>Sale/Return</th>\n",
       "      <th>MRP</th>\n",
       "      <th>Sales Price</th>\n",
       "      <th>Sales Qty</th>\n",
       "    </tr>\n",
       "  </thead>\n",
       "  <tbody>\n",
       "    <tr>\n",
       "      <th>770</th>\n",
       "      <td>SKU1803</td>\n",
       "      <td>BRAND044</td>\n",
       "      <td>Cat07</td>\n",
       "      <td>BILL06833</td>\n",
       "      <td>Store 1</td>\n",
       "      <td>2017-07-29</td>\n",
       "      <td>Sale</td>\n",
       "      <td>0.0</td>\n",
       "      <td>0.0</td>\n",
       "      <td>1</td>\n",
       "    </tr>\n",
       "    <tr>\n",
       "      <th>773</th>\n",
       "      <td>SKU1798</td>\n",
       "      <td>BRAND044</td>\n",
       "      <td>Cat07</td>\n",
       "      <td>BILL06834</td>\n",
       "      <td>Store 1</td>\n",
       "      <td>2017-07-29</td>\n",
       "      <td>Sale</td>\n",
       "      <td>0.0</td>\n",
       "      <td>0.0</td>\n",
       "      <td>1</td>\n",
       "    </tr>\n",
       "    <tr>\n",
       "      <th>776</th>\n",
       "      <td>SKU1800</td>\n",
       "      <td>BRAND044</td>\n",
       "      <td>Cat07</td>\n",
       "      <td>BILL06835</td>\n",
       "      <td>Store 1</td>\n",
       "      <td>2017-07-29</td>\n",
       "      <td>Sale</td>\n",
       "      <td>0.0</td>\n",
       "      <td>0.0</td>\n",
       "      <td>1</td>\n",
       "    </tr>\n",
       "    <tr>\n",
       "      <th>779</th>\n",
       "      <td>SKU1798</td>\n",
       "      <td>BRAND044</td>\n",
       "      <td>Cat07</td>\n",
       "      <td>BILL06836</td>\n",
       "      <td>Store 1</td>\n",
       "      <td>2017-07-29</td>\n",
       "      <td>Sale</td>\n",
       "      <td>0.0</td>\n",
       "      <td>0.0</td>\n",
       "      <td>1</td>\n",
       "    </tr>\n",
       "    <tr>\n",
       "      <th>782</th>\n",
       "      <td>SKU1798</td>\n",
       "      <td>BRAND044</td>\n",
       "      <td>Cat07</td>\n",
       "      <td>BILL06837</td>\n",
       "      <td>Store 1</td>\n",
       "      <td>2017-07-29</td>\n",
       "      <td>Sale</td>\n",
       "      <td>0.0</td>\n",
       "      <td>0.0</td>\n",
       "      <td>1</td>\n",
       "    </tr>\n",
       "  </tbody>\n",
       "</table>\n",
       "</div>"
      ],
      "text/plain": [
       "    SKU Code Brand Code Category Bill Number Store Code   Sale Date  \\\n",
       "770  SKU1803   BRAND044    Cat07   BILL06833    Store 1  2017-07-29   \n",
       "773  SKU1798   BRAND044    Cat07   BILL06834    Store 1  2017-07-29   \n",
       "776  SKU1800   BRAND044    Cat07   BILL06835    Store 1  2017-07-29   \n",
       "779  SKU1798   BRAND044    Cat07   BILL06836    Store 1  2017-07-29   \n",
       "782  SKU1798   BRAND044    Cat07   BILL06837    Store 1  2017-07-29   \n",
       "\n",
       "    Sale/Return  MRP  Sales Price  Sales Qty  \n",
       "770        Sale  0.0          0.0          1  \n",
       "773        Sale  0.0          0.0          1  \n",
       "776        Sale  0.0          0.0          1  \n",
       "779        Sale  0.0          0.0          1  \n",
       "782        Sale  0.0          0.0          1  "
      ]
     },
     "execution_count": 52,
     "metadata": {},
     "output_type": "execute_result"
    }
   ],
   "source": [
    "df.loc[df['Sales Price']==0].head()"
   ]
  },
  {
   "cell_type": "code",
   "execution_count": 53,
   "metadata": {},
   "outputs": [
    {
     "data": {
      "text/plain": [
       "(754, 10)"
      ]
     },
     "execution_count": 53,
     "metadata": {},
     "output_type": "execute_result"
    }
   ],
   "source": [
    "df.loc[(df['Sales Price']==0)&(df['MRP']==0)].shape"
   ]
  },
  {
   "cell_type": "code",
   "execution_count": 54,
   "metadata": {},
   "outputs": [
    {
     "data": {
      "text/html": [
       "<div>\n",
       "<style scoped>\n",
       "    .dataframe tbody tr th:only-of-type {\n",
       "        vertical-align: middle;\n",
       "    }\n",
       "\n",
       "    .dataframe tbody tr th {\n",
       "        vertical-align: top;\n",
       "    }\n",
       "\n",
       "    .dataframe thead th {\n",
       "        text-align: right;\n",
       "    }\n",
       "</style>\n",
       "<table border=\"1\" class=\"dataframe\">\n",
       "  <thead>\n",
       "    <tr style=\"text-align: right;\">\n",
       "      <th></th>\n",
       "      <th>SKU Code</th>\n",
       "      <th>Brand Code</th>\n",
       "      <th>Category</th>\n",
       "      <th>Bill Number</th>\n",
       "      <th>Store Code</th>\n",
       "      <th>Sale Date</th>\n",
       "      <th>Sale/Return</th>\n",
       "      <th>MRP</th>\n",
       "      <th>Sales Price</th>\n",
       "      <th>Sales Qty</th>\n",
       "    </tr>\n",
       "  </thead>\n",
       "  <tbody>\n",
       "    <tr>\n",
       "      <th>877</th>\n",
       "      <td>SKU0663</td>\n",
       "      <td>BRAND027</td>\n",
       "      <td>Cat04</td>\n",
       "      <td>BILL06868</td>\n",
       "      <td>Store 1</td>\n",
       "      <td>2017-07-29</td>\n",
       "      <td>Sale</td>\n",
       "      <td>1.33</td>\n",
       "      <td>0.0</td>\n",
       "      <td>1</td>\n",
       "    </tr>\n",
       "    <tr>\n",
       "      <th>878</th>\n",
       "      <td>SKU0663</td>\n",
       "      <td>BRAND027</td>\n",
       "      <td>Cat04</td>\n",
       "      <td>BILL06868</td>\n",
       "      <td>Store 1</td>\n",
       "      <td>2017-07-29</td>\n",
       "      <td>Sale</td>\n",
       "      <td>1.33</td>\n",
       "      <td>0.0</td>\n",
       "      <td>1</td>\n",
       "    </tr>\n",
       "    <tr>\n",
       "      <th>879</th>\n",
       "      <td>SKU0652</td>\n",
       "      <td>BRAND027</td>\n",
       "      <td>Cat04</td>\n",
       "      <td>BILL06868</td>\n",
       "      <td>Store 1</td>\n",
       "      <td>2017-07-29</td>\n",
       "      <td>Sale</td>\n",
       "      <td>1.33</td>\n",
       "      <td>0.0</td>\n",
       "      <td>1</td>\n",
       "    </tr>\n",
       "    <tr>\n",
       "      <th>880</th>\n",
       "      <td>SKU0669</td>\n",
       "      <td>BRAND027</td>\n",
       "      <td>Cat04</td>\n",
       "      <td>BILL06868</td>\n",
       "      <td>Store 1</td>\n",
       "      <td>2017-07-29</td>\n",
       "      <td>Sale</td>\n",
       "      <td>1.33</td>\n",
       "      <td>0.0</td>\n",
       "      <td>1</td>\n",
       "    </tr>\n",
       "    <tr>\n",
       "      <th>881</th>\n",
       "      <td>SKU0669</td>\n",
       "      <td>BRAND027</td>\n",
       "      <td>Cat04</td>\n",
       "      <td>BILL06868</td>\n",
       "      <td>Store 1</td>\n",
       "      <td>2017-07-29</td>\n",
       "      <td>Sale</td>\n",
       "      <td>1.33</td>\n",
       "      <td>0.0</td>\n",
       "      <td>1</td>\n",
       "    </tr>\n",
       "  </tbody>\n",
       "</table>\n",
       "</div>"
      ],
      "text/plain": [
       "    SKU Code Brand Code Category Bill Number Store Code   Sale Date  \\\n",
       "877  SKU0663   BRAND027    Cat04   BILL06868    Store 1  2017-07-29   \n",
       "878  SKU0663   BRAND027    Cat04   BILL06868    Store 1  2017-07-29   \n",
       "879  SKU0652   BRAND027    Cat04   BILL06868    Store 1  2017-07-29   \n",
       "880  SKU0669   BRAND027    Cat04   BILL06868    Store 1  2017-07-29   \n",
       "881  SKU0669   BRAND027    Cat04   BILL06868    Store 1  2017-07-29   \n",
       "\n",
       "    Sale/Return   MRP  Sales Price  Sales Qty  \n",
       "877        Sale  1.33          0.0          1  \n",
       "878        Sale  1.33          0.0          1  \n",
       "879        Sale  1.33          0.0          1  \n",
       "880        Sale  1.33          0.0          1  \n",
       "881        Sale  1.33          0.0          1  "
      ]
     },
     "execution_count": 54,
     "metadata": {},
     "output_type": "execute_result"
    }
   ],
   "source": [
    "df.loc[(df['Sales Price']==0)&(df['MRP']!=0)].head()"
   ]
  },
  {
   "cell_type": "markdown",
   "metadata": {},
   "source": [
    "<font color='blue'>Comment</font>: Seems like some items were sold for 100% discount.\n",
    "<font color='blue'>Next</font>: Check if Sale_Date column has valid dates."
   ]
  },
  {
   "cell_type": "code",
   "execution_count": 55,
   "metadata": {},
   "outputs": [],
   "source": [
    "df['Sale_Date_datetime'] =  pd.to_datetime(df['Sale Date'], format='%Y-%m-%d')"
   ]
  },
  {
   "cell_type": "code",
   "execution_count": 56,
   "metadata": {},
   "outputs": [
    {
     "data": {
      "text/html": [
       "<div>\n",
       "<style scoped>\n",
       "    .dataframe tbody tr th:only-of-type {\n",
       "        vertical-align: middle;\n",
       "    }\n",
       "\n",
       "    .dataframe tbody tr th {\n",
       "        vertical-align: top;\n",
       "    }\n",
       "\n",
       "    .dataframe thead th {\n",
       "        text-align: right;\n",
       "    }\n",
       "</style>\n",
       "<table border=\"1\" class=\"dataframe\">\n",
       "  <thead>\n",
       "    <tr style=\"text-align: right;\">\n",
       "      <th></th>\n",
       "      <th>SKU Code</th>\n",
       "      <th>Brand Code</th>\n",
       "      <th>Category</th>\n",
       "      <th>Bill Number</th>\n",
       "      <th>Store Code</th>\n",
       "      <th>Sale Date</th>\n",
       "      <th>Sale/Return</th>\n",
       "      <th>MRP</th>\n",
       "      <th>Sales Price</th>\n",
       "      <th>Sales Qty</th>\n",
       "      <th>Sale_Date_datetime</th>\n",
       "    </tr>\n",
       "  </thead>\n",
       "  <tbody>\n",
       "    <tr>\n",
       "      <th>0</th>\n",
       "      <td>SKU1181</td>\n",
       "      <td>BRAND041</td>\n",
       "      <td>Cat06</td>\n",
       "      <td>BILL06415</td>\n",
       "      <td>Store 1</td>\n",
       "      <td>2017-05-18</td>\n",
       "      <td>Return</td>\n",
       "      <td>0.01</td>\n",
       "      <td>0.01</td>\n",
       "      <td>-1</td>\n",
       "      <td>2017-05-18</td>\n",
       "    </tr>\n",
       "    <tr>\n",
       "      <th>1</th>\n",
       "      <td>SKU0457</td>\n",
       "      <td>BRAND011</td>\n",
       "      <td>Cat01</td>\n",
       "      <td>BILL06416</td>\n",
       "      <td>Store 1</td>\n",
       "      <td>2017-05-22</td>\n",
       "      <td>Sale</td>\n",
       "      <td>72.00</td>\n",
       "      <td>72.67</td>\n",
       "      <td>2</td>\n",
       "      <td>2017-05-22</td>\n",
       "    </tr>\n",
       "    <tr>\n",
       "      <th>2</th>\n",
       "      <td>SKU1465</td>\n",
       "      <td>BRAND018</td>\n",
       "      <td>Cat07</td>\n",
       "      <td>BILL06417</td>\n",
       "      <td>Store 1</td>\n",
       "      <td>2017-07-01</td>\n",
       "      <td>Return</td>\n",
       "      <td>20.00</td>\n",
       "      <td>20.00</td>\n",
       "      <td>-1</td>\n",
       "      <td>2017-07-01</td>\n",
       "    </tr>\n",
       "    <tr>\n",
       "      <th>3</th>\n",
       "      <td>SKU0774</td>\n",
       "      <td>BRAND017</td>\n",
       "      <td>Cat07</td>\n",
       "      <td>BILL06418</td>\n",
       "      <td>Store 1</td>\n",
       "      <td>2017-07-01</td>\n",
       "      <td>Sale</td>\n",
       "      <td>30.67</td>\n",
       "      <td>30.67</td>\n",
       "      <td>1</td>\n",
       "      <td>2017-07-01</td>\n",
       "    </tr>\n",
       "    <tr>\n",
       "      <th>4</th>\n",
       "      <td>SKU1695</td>\n",
       "      <td>BRAND017</td>\n",
       "      <td>Cat07</td>\n",
       "      <td>BILL06419</td>\n",
       "      <td>Store 1</td>\n",
       "      <td>2017-07-01</td>\n",
       "      <td>Sale</td>\n",
       "      <td>44.00</td>\n",
       "      <td>44.00</td>\n",
       "      <td>1</td>\n",
       "      <td>2017-07-01</td>\n",
       "    </tr>\n",
       "  </tbody>\n",
       "</table>\n",
       "</div>"
      ],
      "text/plain": [
       "  SKU Code Brand Code Category Bill Number Store Code   Sale Date Sale/Return  \\\n",
       "0  SKU1181   BRAND041    Cat06   BILL06415    Store 1  2017-05-18      Return   \n",
       "1  SKU0457   BRAND011    Cat01   BILL06416    Store 1  2017-05-22        Sale   \n",
       "2  SKU1465   BRAND018    Cat07   BILL06417    Store 1  2017-07-01      Return   \n",
       "3  SKU0774   BRAND017    Cat07   BILL06418    Store 1  2017-07-01        Sale   \n",
       "4  SKU1695   BRAND017    Cat07   BILL06419    Store 1  2017-07-01        Sale   \n",
       "\n",
       "     MRP  Sales Price  Sales Qty Sale_Date_datetime  \n",
       "0   0.01         0.01         -1         2017-05-18  \n",
       "1  72.00        72.67          2         2017-05-22  \n",
       "2  20.00        20.00         -1         2017-07-01  \n",
       "3  30.67        30.67          1         2017-07-01  \n",
       "4  44.00        44.00          1         2017-07-01  "
      ]
     },
     "execution_count": 56,
     "metadata": {},
     "output_type": "execute_result"
    }
   ],
   "source": [
    "df.head()"
   ]
  },
  {
   "cell_type": "code",
   "execution_count": 57,
   "metadata": {},
   "outputs": [
    {
     "name": "stdout",
     "output_type": "stream",
     "text": [
      "2018-02-28 00:00:00 2017-01-01 00:00:00\n"
     ]
    }
   ],
   "source": [
    "print(df['Sale_Date_datetime'].max(), df['Sale_Date_datetime'].min())"
   ]
  },
  {
   "cell_type": "markdown",
   "metadata": {},
   "source": [
    "<font color='blue'>Comment</font>: There seems no issues with the dates.\n",
    "<br>\n",
    "<font color='blue'>Next</font>: Check for trends. </font>"
   ]
  },
  {
   "cell_type": "markdown",
   "metadata": {},
   "source": [
    "# Trend Analysis\n",
    "---\n",
    "Rows with anomalies will be removed before trend analysis. This is being done because the anomalies are more human errors which can be corrected by consulting the data providers.\n",
    "***\n",
    "\n",
    "**Section 1.** In this section we shall see analyse for the following:\n",
    "1. Brand that appeared in more transactions compared to other brands, i.e., the most frequently bought brand.<br>\n",
    "2. Brand with max Sales Qty.<br>\n",
    "3. Category that appeared in more transactions than other .<br>\n",
    "4. Category with max Sales Qty.<br>\n",
    "5. Store that was purchased from the most.<br>\n",
    "6. Analyse how most frequent store relates to most frequently bought category, brand and to category, brand bought max number of times (category and brand with max sum of Sales Qty).\n",
    "6. Days corresponding to the transactiond dates on which most sales were made."
   ]
  },
  {
   "cell_type": "markdown",
   "metadata": {},
   "source": [
    "### Preparing dataset for analysis"
   ]
  },
  {
   "cell_type": "markdown",
   "metadata": {},
   "source": [
    "#### 1. Drop null values"
   ]
  },
  {
   "cell_type": "code",
   "execution_count": 58,
   "metadata": {},
   "outputs": [
    {
     "data": {
      "text/plain": [
       "(63113, 11)"
      ]
     },
     "execution_count": 58,
     "metadata": {},
     "output_type": "execute_result"
    }
   ],
   "source": [
    "df.shape"
   ]
  },
  {
   "cell_type": "code",
   "execution_count": 59,
   "metadata": {},
   "outputs": [],
   "source": [
    "# drop rows with null entry atleast in one column\n",
    "df = df.dropna()"
   ]
  },
  {
   "cell_type": "code",
   "execution_count": 60,
   "metadata": {},
   "outputs": [
    {
     "data": {
      "text/plain": [
       "(63100, 11)"
      ]
     },
     "execution_count": 60,
     "metadata": {},
     "output_type": "execute_result"
    }
   ],
   "source": [
    "df.shape"
   ]
  },
  {
   "cell_type": "markdown",
   "metadata": {},
   "source": [
    "#### 2. Filter invalid values - Sales Qty, Sales Price, MRP"
   ]
  },
  {
   "cell_type": "code",
   "execution_count": 61,
   "metadata": {},
   "outputs": [],
   "source": [
    "df = df.loc[df['Sales Qty']>0]\n",
    "df = df.loc[df['Sales Price']>0]\n",
    "df = df.loc[df['MRP']>0]\n",
    "df = df.loc[df['MRP']>=df['Sales Price']] # assuming the otherwise cases occurred in the dataset due to human err"
   ]
  },
  {
   "cell_type": "code",
   "execution_count": 62,
   "metadata": {
    "scrolled": true
   },
   "outputs": [
    {
     "data": {
      "text/plain": [
       "(55670, 11)"
      ]
     },
     "execution_count": 62,
     "metadata": {},
     "output_type": "execute_result"
    }
   ],
   "source": [
    "df.shape"
   ]
  },
  {
   "cell_type": "markdown",
   "metadata": {},
   "source": [
    "#### 3. Analysis"
   ]
  },
  {
   "cell_type": "markdown",
   "metadata": {},
   "source": [
    "1. Brands that appeared in more transactions compared to other brands."
   ]
  },
  {
   "cell_type": "code",
   "execution_count": 63,
   "metadata": {
    "scrolled": true
   },
   "outputs": [
    {
     "data": {
      "text/plain": [
       "BRAND027    15608\n",
       "BRAND050     3859\n",
       "BRAND017     3249\n",
       "BRAND018     3219\n",
       "BRAND033     2697\n",
       "Name: Brand Code, dtype: int64"
      ]
     },
     "execution_count": 63,
     "metadata": {},
     "output_type": "execute_result"
    }
   ],
   "source": [
    "# df['Brand Code'].value_counts().sort_values(ascending=False)[:55]\n",
    "# aesthatic reason for printing only five rows\n",
    "df['Brand Code'].value_counts().sort_values(ascending=False)[:5]"
   ]
  },
  {
   "cell_type": "code",
   "execution_count": 64,
   "metadata": {},
   "outputs": [
    {
     "name": "stdout",
     "output_type": "stream",
     "text": [
      "% frequency of BRAND027 =  0.28036644512304654\n"
     ]
    }
   ],
   "source": [
    "relative_frequency_b027 = df[df['Brand Code']=='BRAND027'].shape[0]/df.shape[0]\n",
    "print('% frequency of BRAND027 = ', relative_frequency_b027)"
   ]
  },
  {
   "cell_type": "markdown",
   "metadata": {},
   "source": [
    "<font color='blue'>Comment</font>: BRAND027 appears in 28% of the sales/transactions. It means either<br>\n",
    "(i)  BRAND027 was bought frequently with other items, <br>\n",
    "(ii) BRAND027 was actually the item that was bought as an exclusive product (t-shirt, jeans pants, etc.) and was preferred over other brands.<br>\n",
    "This would depend on the kind of stores the data was collected for and the kind of items that BRAND027 sells.\n",
    "<br>\n",
    "<font color='blue'>Next</font>: Check which brand was bought the most. </font>"
   ]
  },
  {
   "cell_type": "markdown",
   "metadata": {},
   "source": [
    "2. Brand bought the most number of times (Brand with max Sales Qty)."
   ]
  },
  {
   "cell_type": "code",
   "execution_count": 65,
   "metadata": {
    "scrolled": true
   },
   "outputs": [
    {
     "data": {
      "text/plain": [
       "Brand Code\n",
       "BRAND027    16670\n",
       "BRAND050     4243\n",
       "BRAND017     3255\n",
       "BRAND018     3244\n",
       "BRAND033     2705\n",
       "BRAND023     1794\n",
       "BRAND034     1705\n",
       "BRAND001     1360\n",
       "BRAND011     1281\n",
       "BRAND053     1243\n",
       "BRAND003     1205\n",
       "BRAND007     1061\n",
       "BRAND085     1037\n",
       "BRAND156      950\n",
       "BRAND056      916\n",
       "BRAND005      870\n",
       "BRAND082      794\n",
       "BRAND065      624\n",
       "BRAND006      558\n",
       "BRAND002      498\n",
       "Name: Sales Qty, dtype: int64"
      ]
     },
     "execution_count": 65,
     "metadata": {},
     "output_type": "execute_result"
    }
   ],
   "source": [
    "df.groupby(['Brand Code'])['Sales Qty'].sum().sort_values(ascending=False)[:20]"
   ]
  },
  {
   "cell_type": "code",
   "execution_count": 66,
   "metadata": {},
   "outputs": [],
   "source": [
    "total_qty_sold = df.groupby(['Brand Code'])['Sales Qty'].sum().sum()"
   ]
  },
  {
   "cell_type": "code",
   "execution_count": 67,
   "metadata": {},
   "outputs": [
    {
     "data": {
      "text/plain": [
       "57246"
      ]
     },
     "execution_count": 67,
     "metadata": {},
     "output_type": "execute_result"
    }
   ],
   "source": [
    "total_qty_sold"
   ]
  },
  {
   "cell_type": "code",
   "execution_count": 68,
   "metadata": {},
   "outputs": [
    {
     "name": "stdout",
     "output_type": "stream",
     "text": [
      "% sales of BRAND027 =  0.2911993851098767\n"
     ]
    }
   ],
   "source": [
    "relative_sales_b027 = df.groupby(['Brand Code'])['Sales Qty'].sum().sort_values(ascending=False)[0]/total_qty_sold\n",
    "print('% sales of BRAND027 = ', relative_sales_b027)"
   ]
  },
  {
   "cell_type": "markdown",
   "metadata": {},
   "source": [
    "<font color='blue'>Comment</font>: BRAND027 was bought 29.12% of the times out of all other items. It means BRAND027 was actually the item that was bought more often than other brands.<br>\n",
    "<font color='blue'>Next</font>: Most frequently occurring category. </font>"
   ]
  },
  {
   "cell_type": "markdown",
   "metadata": {},
   "source": [
    "3. Category bought most frequently."
   ]
  },
  {
   "cell_type": "code",
   "execution_count": 69,
   "metadata": {},
   "outputs": [
    {
     "data": {
      "text/plain": [
       "Cat04    22963\n",
       "Cat07    17214\n",
       "Cat01    11803\n",
       "Cat02     1349\n",
       "Cat03      901\n",
       "Cat08      888\n",
       "Cat05      251\n",
       "Cat10      106\n",
       "Cat06       80\n",
       "Cat11       61\n",
       "Cat09       54\n",
       "Name: Category, dtype: int64"
      ]
     },
     "execution_count": 69,
     "metadata": {},
     "output_type": "execute_result"
    }
   ],
   "source": [
    "df['Category'].value_counts().sort_values(ascending=False)"
   ]
  },
  {
   "cell_type": "code",
   "execution_count": 70,
   "metadata": {},
   "outputs": [
    {
     "name": "stdout",
     "output_type": "stream",
     "text": [
      "% relative frequency of Cat04 =  0.4124842823783007\n",
      "% relative frequency of Cat07 =  0.30921501706484644\n",
      "% relative frequency of Cat01 =  0.21201724447637865\n"
     ]
    }
   ],
   "source": [
    "relative_frequency_cat04 = df['Category'].value_counts().sort_values(ascending=False)[0]/df.shape[0]\n",
    "relative_frequency_cat07 = df['Category'].value_counts().sort_values(ascending=False)[1]/df.shape[0]\n",
    "relative_frequency_cat01 = df['Category'].value_counts().sort_values(ascending=False)[2]/df.shape[0]\n",
    "print('% relative frequency of Cat04 = ', relative_frequency_cat04)\n",
    "print('% relative frequency of Cat07 = ', relative_frequency_cat07)\n",
    "print('% relative frequency of Cat01 = ', relative_frequency_cat01)"
   ]
  },
  {
   "cell_type": "markdown",
   "metadata": {},
   "source": [
    "<font color='blue'>Comment</font>: Cat04 was most frequently bought category. Cat07 is very close to Cat04.<br>\n",
    "<font color='blue'>Next</font>: Category with max Sales Qty. </font>"
   ]
  },
  {
   "cell_type": "markdown",
   "metadata": {},
   "source": [
    "4. Category with max Sales Qty."
   ]
  },
  {
   "cell_type": "code",
   "execution_count": 71,
   "metadata": {
    "scrolled": true
   },
   "outputs": [
    {
     "data": {
      "text/plain": [
       "Category\n",
       "Cat04    24442\n",
       "Cat07    17255\n",
       "Cat01    11846\n",
       "Cat02     1357\n",
       "Cat03      902\n",
       "Cat08      889\n",
       "Cat05      252\n",
       "Cat10      108\n",
       "Cat06       80\n",
       "Cat11       61\n",
       "Cat09       54\n",
       "Name: Sales Qty, dtype: int64"
      ]
     },
     "execution_count": 71,
     "metadata": {},
     "output_type": "execute_result"
    }
   ],
   "source": [
    "df.groupby(['Category'])['Sales Qty'].sum().sort_values(ascending=False)"
   ]
  },
  {
   "cell_type": "code",
   "execution_count": 72,
   "metadata": {},
   "outputs": [],
   "source": [
    "total_qty_sold = df.groupby(['Category'])['Sales Qty'].sum().sum()"
   ]
  },
  {
   "cell_type": "code",
   "execution_count": 73,
   "metadata": {},
   "outputs": [
    {
     "data": {
      "text/plain": [
       "57246"
      ]
     },
     "execution_count": 73,
     "metadata": {},
     "output_type": "execute_result"
    }
   ],
   "source": [
    "total_qty_sold"
   ]
  },
  {
   "cell_type": "code",
   "execution_count": 74,
   "metadata": {},
   "outputs": [
    {
     "name": "stdout",
     "output_type": "stream",
     "text": [
      "% relative sales of Cat04 =  0.42696432938545925\n",
      "% relative sales of Cat07 =  0.30141843971631205\n",
      "% relative sales of Cat01 =  0.20693148866296335\n"
     ]
    }
   ],
   "source": [
    "relative_sales_cat04 = df.groupby(['Category'])['Sales Qty'].sum().sort_values(ascending=False)[0]/total_qty_sold\n",
    "relative_sales_cat07 = df.groupby(['Category'])['Sales Qty'].sum().sort_values(ascending=False)[1]/total_qty_sold\n",
    "relative_sales_cat01 = df.groupby(['Category'])['Sales Qty'].sum().sort_values(ascending=False)[2]/total_qty_sold\n",
    "print('% relative sales of Cat04 = ', relative_sales_cat04)\n",
    "print('% relative sales of Cat07 = ', relative_sales_cat07)\n",
    "print('% relative sales of Cat01 = ', relative_sales_cat01)"
   ]
  },
  {
   "cell_type": "markdown",
   "metadata": {},
   "source": [
    "<font color='blue'>Comment</font>: Cat04 was the most bought category.<br>\n",
    "<font color='blue'>Next</font>: Stores most frequently bought from. </font>"
   ]
  },
  {
   "cell_type": "markdown",
   "metadata": {},
   "source": [
    "5. Stores most frequently bought from."
   ]
  },
  {
   "cell_type": "code",
   "execution_count": 75,
   "metadata": {},
   "outputs": [
    {
     "data": {
      "text/plain": [
       "Store 5    14527\n",
       "Store 1     9980\n",
       "Store 4     9014\n",
       "Store 2     8964\n",
       "Store 3     8443\n",
       "Store 6     4742\n",
       "Name: Store Code, dtype: int64"
      ]
     },
     "execution_count": 75,
     "metadata": {},
     "output_type": "execute_result"
    }
   ],
   "source": [
    "df['Store Code'].value_counts().sort_values(ascending=False)"
   ]
  },
  {
   "cell_type": "code",
   "execution_count": 76,
   "metadata": {},
   "outputs": [
    {
     "name": "stdout",
     "output_type": "stream",
     "text": [
      "% relative frequency of store5 =  0.4124842823783007\n"
     ]
    }
   ],
   "source": [
    "relative_frequency_store5 = df['Category'].value_counts().sort_values(ascending=False)[0]/df.shape[0]\n",
    "print('% relative frequency of store5 = ', relative_frequency_store5)"
   ]
  },
  {
   "cell_type": "markdown",
   "metadata": {},
   "source": [
    "6. Analyse most frequent shops w.r.t. most frequent/sold categories and brands to find if there is a relationship.\n",
    "---\n",
    "Assuming both most frequently bought and most number sold brands and categories are the same (based on previous discoveries.)"
   ]
  },
  {
   "cell_type": "code",
   "execution_count": 77,
   "metadata": {},
   "outputs": [],
   "source": [
    "df_store5 = df[df['Store Code']=='Store 5']"
   ]
  },
  {
   "cell_type": "markdown",
   "metadata": {},
   "source": [
    "6.1. Most frequently bought brand in store 5"
   ]
  },
  {
   "attachments": {
    "image.png": {
     "image/png": "[encoded data removed]"
    }
   },
   "cell_type": "markdown",
   "metadata": {},
   "source": [
    "![image.png](attachment:image.png)"
   ]
  },
  {
   "cell_type": "markdown",
   "metadata": {},
   "source": [
    "<center>Fig. Most frequently bought brand overall</center>"
   ]
  },
  {
   "cell_type": "code",
   "execution_count": 78,
   "metadata": {},
   "outputs": [
    {
     "data": {
      "text/plain": [
       "BRAND027    4553\n",
       "BRAND033    2179\n",
       "BRAND017    1468\n",
       "BRAND018    1396\n",
       "BRAND034     935\n",
       "Name: Brand Code, dtype: int64"
      ]
     },
     "execution_count": 78,
     "metadata": {},
     "output_type": "execute_result"
    }
   ],
   "source": [
    "df_store5['Brand Code'].value_counts().sort_values(ascending=False)[:5]"
   ]
  },
  {
   "cell_type": "markdown",
   "metadata": {},
   "source": [
    "<font color='blue'>Comment</font>: <br>\n",
    "1. BRAND027, the most frequently bought overall is also the most frequently bought in this store. <br>\n",
    "2. Brand033, the second most frequently bought item in Store_5, was sold 2179 times from the store. Since 2697 is the number of times it was sold overall, apparently Store_5 held most of the stocks of BRAND033.<br>\n",
    "<font color='blue'>Next</font>: Categories more frequently bought from store 5. </font>"
   ]
  },
  {
   "cell_type": "markdown",
   "metadata": {},
   "source": [
    "6.2. Most frequently bought category in store 5"
   ]
  },
  {
   "attachments": {
    "image.png": {
     "image/png": "[encoded data removed]"
    }
   },
   "cell_type": "markdown",
   "metadata": {},
   "source": [
    "![image.png](attachment:image.png)"
   ]
  },
  {
   "cell_type": "markdown",
   "metadata": {},
   "source": [
    "<center>Fig. Most frequently bought categories overall</center>"
   ]
  },
  {
   "cell_type": "code",
   "execution_count": 79,
   "metadata": {},
   "outputs": [
    {
     "data": {
      "text/plain": [
       "Cat04    5846\n",
       "Cat07    5704\n",
       "Cat01    2060\n",
       "Cat02     494\n",
       "Cat03     190\n",
       "Name: Category, dtype: int64"
      ]
     },
     "execution_count": 79,
     "metadata": {},
     "output_type": "execute_result"
    }
   ],
   "source": [
    "df_store5['Category'].value_counts().sort_values(ascending=False)[:5]"
   ]
  },
  {
   "cell_type": "markdown",
   "metadata": {},
   "source": [
    "<font color='blue'>Comment</font>: Top 5 categories in store 5, all are also in top 5 overall and in the same order.<br>\n",
    "<font color='blue'>Next</font>: Month-wise analysis of sales. </font>"
   ]
  },
  {
   "cell_type": "markdown",
   "metadata": {},
   "source": [
    "7. Month-wise analysis\n",
    "---\n",
    "7.1. Month in which most of the transactions took place.<br>\n",
    "7.2. Month-wise analysis for each category. <br>\n",
    "7.3. Month-wise analysis for each brand.<br>\n",
    "7.4. Month-wise analysis for each store.<br>\n",
    "7.5. Which categories were bought more during a particular month from a particular store.<br>\n",
    "7.6. Which brands were bought more during a particular month from a particular store."
   ]
  },
  {
   "cell_type": "code",
   "execution_count": 80,
   "metadata": {},
   "outputs": [
    {
     "data": {
      "text/html": [
       "<div>\n",
       "<style scoped>\n",
       "    .dataframe tbody tr th:only-of-type {\n",
       "        vertical-align: middle;\n",
       "    }\n",
       "\n",
       "    .dataframe tbody tr th {\n",
       "        vertical-align: top;\n",
       "    }\n",
       "\n",
       "    .dataframe thead th {\n",
       "        text-align: right;\n",
       "    }\n",
       "</style>\n",
       "<table border=\"1\" class=\"dataframe\">\n",
       "  <thead>\n",
       "    <tr style=\"text-align: right;\">\n",
       "      <th></th>\n",
       "      <th>SKU Code</th>\n",
       "      <th>Brand Code</th>\n",
       "      <th>Category</th>\n",
       "      <th>Bill Number</th>\n",
       "      <th>Store Code</th>\n",
       "      <th>Sale Date</th>\n",
       "      <th>Sale/Return</th>\n",
       "      <th>MRP</th>\n",
       "      <th>Sales Price</th>\n",
       "      <th>Sales Qty</th>\n",
       "      <th>Sale_Date_datetime</th>\n",
       "    </tr>\n",
       "  </thead>\n",
       "  <tbody>\n",
       "    <tr>\n",
       "      <th>3</th>\n",
       "      <td>SKU0774</td>\n",
       "      <td>BRAND017</td>\n",
       "      <td>Cat07</td>\n",
       "      <td>BILL06418</td>\n",
       "      <td>Store 1</td>\n",
       "      <td>2017-07-01</td>\n",
       "      <td>Sale</td>\n",
       "      <td>30.67</td>\n",
       "      <td>30.67</td>\n",
       "      <td>1</td>\n",
       "      <td>2017-07-01</td>\n",
       "    </tr>\n",
       "    <tr>\n",
       "      <th>4</th>\n",
       "      <td>SKU1695</td>\n",
       "      <td>BRAND017</td>\n",
       "      <td>Cat07</td>\n",
       "      <td>BILL06419</td>\n",
       "      <td>Store 1</td>\n",
       "      <td>2017-07-01</td>\n",
       "      <td>Sale</td>\n",
       "      <td>44.00</td>\n",
       "      <td>44.00</td>\n",
       "      <td>1</td>\n",
       "      <td>2017-07-01</td>\n",
       "    </tr>\n",
       "  </tbody>\n",
       "</table>\n",
       "</div>"
      ],
      "text/plain": [
       "  SKU Code Brand Code Category Bill Number Store Code   Sale Date Sale/Return  \\\n",
       "3  SKU0774   BRAND017    Cat07   BILL06418    Store 1  2017-07-01        Sale   \n",
       "4  SKU1695   BRAND017    Cat07   BILL06419    Store 1  2017-07-01        Sale   \n",
       "\n",
       "     MRP  Sales Price  Sales Qty Sale_Date_datetime  \n",
       "3  30.67        30.67          1         2017-07-01  \n",
       "4  44.00        44.00          1         2017-07-01  "
      ]
     },
     "execution_count": 80,
     "metadata": {},
     "output_type": "execute_result"
    }
   ],
   "source": [
    "df.head(2)"
   ]
  },
  {
   "cell_type": "code",
   "execution_count": 81,
   "metadata": {},
   "outputs": [],
   "source": [
    "df['Month'] = [dt.month for dt in df['Sale_Date_datetime']]"
   ]
  },
  {
   "cell_type": "code",
   "execution_count": 82,
   "metadata": {},
   "outputs": [
    {
     "data": {
      "text/html": [
       "<div>\n",
       "<style scoped>\n",
       "    .dataframe tbody tr th:only-of-type {\n",
       "        vertical-align: middle;\n",
       "    }\n",
       "\n",
       "    .dataframe tbody tr th {\n",
       "        vertical-align: top;\n",
       "    }\n",
       "\n",
       "    .dataframe thead th {\n",
       "        text-align: right;\n",
       "    }\n",
       "</style>\n",
       "<table border=\"1\" class=\"dataframe\">\n",
       "  <thead>\n",
       "    <tr style=\"text-align: right;\">\n",
       "      <th></th>\n",
       "      <th>SKU Code</th>\n",
       "      <th>Brand Code</th>\n",
       "      <th>Category</th>\n",
       "      <th>Bill Number</th>\n",
       "      <th>Store Code</th>\n",
       "      <th>Sale Date</th>\n",
       "      <th>Sale/Return</th>\n",
       "      <th>MRP</th>\n",
       "      <th>Sales Price</th>\n",
       "      <th>Sales Qty</th>\n",
       "      <th>Sale_Date_datetime</th>\n",
       "      <th>Month</th>\n",
       "    </tr>\n",
       "  </thead>\n",
       "  <tbody>\n",
       "    <tr>\n",
       "      <th>3</th>\n",
       "      <td>SKU0774</td>\n",
       "      <td>BRAND017</td>\n",
       "      <td>Cat07</td>\n",
       "      <td>BILL06418</td>\n",
       "      <td>Store 1</td>\n",
       "      <td>2017-07-01</td>\n",
       "      <td>Sale</td>\n",
       "      <td>30.67</td>\n",
       "      <td>30.67</td>\n",
       "      <td>1</td>\n",
       "      <td>2017-07-01</td>\n",
       "      <td>7</td>\n",
       "    </tr>\n",
       "    <tr>\n",
       "      <th>4</th>\n",
       "      <td>SKU1695</td>\n",
       "      <td>BRAND017</td>\n",
       "      <td>Cat07</td>\n",
       "      <td>BILL06419</td>\n",
       "      <td>Store 1</td>\n",
       "      <td>2017-07-01</td>\n",
       "      <td>Sale</td>\n",
       "      <td>44.00</td>\n",
       "      <td>44.00</td>\n",
       "      <td>1</td>\n",
       "      <td>2017-07-01</td>\n",
       "      <td>7</td>\n",
       "    </tr>\n",
       "  </tbody>\n",
       "</table>\n",
       "</div>"
      ],
      "text/plain": [
       "  SKU Code Brand Code Category Bill Number Store Code   Sale Date Sale/Return  \\\n",
       "3  SKU0774   BRAND017    Cat07   BILL06418    Store 1  2017-07-01        Sale   \n",
       "4  SKU1695   BRAND017    Cat07   BILL06419    Store 1  2017-07-01        Sale   \n",
       "\n",
       "     MRP  Sales Price  Sales Qty Sale_Date_datetime  Month  \n",
       "3  30.67        30.67          1         2017-07-01      7  \n",
       "4  44.00        44.00          1         2017-07-01      7  "
      ]
     },
     "execution_count": 82,
     "metadata": {},
     "output_type": "execute_result"
    }
   ],
   "source": [
    "df.head(2)"
   ]
  },
  {
   "cell_type": "markdown",
   "metadata": {},
   "source": [
    "7.1. Month in which most transactions took place"
   ]
  },
  {
   "cell_type": "code",
   "execution_count": 83,
   "metadata": {
    "scrolled": true
   },
   "outputs": [
    {
     "data": {
      "text/plain": [
       "12    7565\n",
       "2     7532\n",
       "1     7499\n",
       "10    6492\n",
       "11    6163\n",
       "9     6071\n",
       "8     3514\n",
       "7     3505\n",
       "6     2182\n",
       "5     1825\n",
       "3     1693\n",
       "4     1629\n",
       "Name: Month, dtype: int64"
      ]
     },
     "execution_count": 83,
     "metadata": {},
     "output_type": "execute_result"
    }
   ],
   "source": [
    "df['Month'].value_counts().sort_values(ascending=False)"
   ]
  },
  {
   "cell_type": "markdown",
   "metadata": {},
   "source": [
    "<font color='blue'>Comment</font>: Dec, Feb, Jan, Oct, Nov, Sep (in the same order) are the months where a lot of purchases were made.<br>\n",
    "<font color='blue'>Next</font>: Month-wise analysis for each category. </font>"
   ]
  },
  {
   "cell_type": "markdown",
   "metadata": {},
   "source": [
    "7.2. Month-wise analysis for each category\n",
    "***\n",
    "For months Dec, Feb and Jan"
   ]
  },
  {
   "attachments": {
    "image.png": {
     "image/png": "[encoded data removed]"
    }
   },
   "cell_type": "markdown",
   "metadata": {},
   "source": [
    "![image.png](attachment:image.png)"
   ]
  },
  {
   "cell_type": "markdown",
   "metadata": {},
   "source": [
    "<center>Fig. Most frequently bought categories overall</center>"
   ]
  },
  {
   "cell_type": "code",
   "execution_count": 84,
   "metadata": {},
   "outputs": [],
   "source": [
    "df_dec = df.loc[df['Month']==12]\n",
    "df_feb = df.loc[df['Month']==2]\n",
    "df_jan = df.loc[df['Month']==1]"
   ]
  },
  {
   "cell_type": "code",
   "execution_count": 85,
   "metadata": {},
   "outputs": [
    {
     "data": {
      "text/plain": [
       "Cat04    3859\n",
       "Cat07    2728\n",
       "Cat01     458\n",
       "Cat02     209\n",
       "Cat08     121\n",
       "Cat03     108\n",
       "Cat05      37\n",
       "Cat09      18\n",
       "Cat11      14\n",
       "Cat06      13\n",
       "Name: Category, dtype: int64"
      ]
     },
     "execution_count": 85,
     "metadata": {},
     "output_type": "execute_result"
    }
   ],
   "source": [
    "df_dec['Category'].value_counts()"
   ]
  },
  {
   "cell_type": "code",
   "execution_count": 86,
   "metadata": {},
   "outputs": [
    {
     "data": {
      "text/plain": [
       "Cat07    2989\n",
       "Cat04    2561\n",
       "Cat01    1381\n",
       "Cat02     227\n",
       "Cat08     159\n",
       "Cat03     126\n",
       "Cat05      44\n",
       "Cat06      19\n",
       "Cat09      15\n",
       "Cat11      11\n",
       "Name: Category, dtype: int64"
      ]
     },
     "execution_count": 86,
     "metadata": {},
     "output_type": "execute_result"
    }
   ],
   "source": [
    "df_feb['Category'].value_counts()"
   ]
  },
  {
   "cell_type": "code",
   "execution_count": 87,
   "metadata": {},
   "outputs": [
    {
     "data": {
      "text/plain": [
       "Cat04    2938\n",
       "Cat07    2727\n",
       "Cat01    1284\n",
       "Cat08     180\n",
       "Cat02     174\n",
       "Cat03     103\n",
       "Cat05      48\n",
       "Cat11      23\n",
       "Cat09      13\n",
       "Cat06       9\n",
       "Name: Category, dtype: int64"
      ]
     },
     "execution_count": 87,
     "metadata": {},
     "output_type": "execute_result"
    }
   ],
   "source": [
    "df_jan['Category'].value_counts()"
   ]
  },
  {
   "cell_type": "code",
   "execution_count": 88,
   "metadata": {},
   "outputs": [
    {
     "data": {
      "text/plain": [
       "Cat01    1259\n",
       "Cat07     717\n",
       "Cat04     156\n",
       "Cat03      28\n",
       "Cat02       9\n",
       "Cat06       8\n",
       "Cat05       3\n",
       "Cat08       2\n",
       "Name: Category, dtype: int64"
      ]
     },
     "execution_count": 88,
     "metadata": {},
     "output_type": "execute_result"
    }
   ],
   "source": [
    "df_jun = df.loc[df['Month']==6]\n",
    "df_jun['Category'].value_counts()"
   ]
  },
  {
   "cell_type": "code",
   "execution_count": 100,
   "metadata": {
    "scrolled": true
   },
   "outputs": [],
   "source": [
    "# df[df['Category']=='Cat01'].groupby(['Month']).sum()['Sales Qty']"
   ]
  },
  {
   "cell_type": "code",
   "execution_count": 90,
   "metadata": {},
   "outputs": [],
   "source": [
    "category_wise_sales_monthwise = {}\n",
    "\n",
    "for category in df['Category'].unique():\n",
    "    sales_monthwise = list(df[df['Category']==category].groupby(['Month']).sum()['Sales Qty'])\n",
    "    category_wise_sales_monthwise[category] = sales_monthwise"
   ]
  },
  {
   "cell_type": "code",
   "execution_count": 91,
   "metadata": {},
   "outputs": [],
   "source": [
    "# category_wise_sales_monthwise"
   ]
  },
  {
   "cell_type": "code",
   "execution_count": 92,
   "metadata": {},
   "outputs": [
    {
     "data": {
      "image/png": "[encoded data removed]",
      "text/plain": [
       "<Figure size 720x576 with 1 Axes>"
      ]
     },
     "metadata": {},
     "output_type": "display_data"
    }
   ],
   "source": [
    "fig=plt.figure(figsize=(10, 8))\n",
    "for category in category_wise_sales_monthwise:\n",
    "    plt.plot(category_wise_sales_monthwise[category], label=category)\n",
    "    plt.legend()\n",
    "    plt.xlabel('Months')\n",
    "    plt.ylabel('Sales Qty')\n",
    "    plt.plot()"
   ]
  },
  {
   "cell_type": "markdown",
   "metadata": {},
   "source": [
    "<center>Fig.- Month-wise sales for each category -- On the x-axis: 0-Jan, 1-Feb, ..., 11-Dec</center>"
   ]
  },
  {
   "cell_type": "markdown",
   "metadata": {},
   "source": [
    "<font color='blue'>Comment</font>: Plot shows that different categories have different sale frequencies. <br>\n",
    "<font color='blue'>Next</font>: Month-wise analysis for each brand. </font>"
   ]
  },
  {
   "cell_type": "markdown",
   "metadata": {},
   "source": [
    "7.3. Month-wise analysis for each brand"
   ]
  },
  {
   "cell_type": "code",
   "execution_count": 96,
   "metadata": {},
   "outputs": [],
   "source": [
    "brand_wise_sales_monthwise = {}\n",
    "\n",
    "for brand in df['Brand Code'].unique():\n",
    "    sales_monthwise = list(df[df['Brand Code']==brand].groupby(['Month']).sum()['Sales Qty'])\n",
    "    brand_wise_sales_monthwise[brand] = sales_monthwise"
   ]
  },
  {
   "cell_type": "code",
   "execution_count": 99,
   "metadata": {},
   "outputs": [
    {
     "data": {
      "image/png": "[encoded data removed]",
      "text/plain": [
       "<Figure size 720x576 with 1 Axes>"
      ]
     },
     "metadata": {},
     "output_type": "display_data"
    }
   ],
   "source": [
    "fig=plt.figure(figsize=(10, 8))\n",
    "for brand in brand_wise_sales_monthwise:\n",
    "    plt.plot(brand_wise_sales_monthwise[brand], label=brand)\n",
    "#     plt.legend()\n",
    "    plt.xlabel('Months')\n",
    "    plt.ylabel('Sales Qty')\n",
    "    plt.plot()"
   ]
  },
  {
   "cell_type": "markdown",
   "metadata": {},
   "source": [
    "<center>Fig.- Brand sales month-wise.</center>"
   ]
  },
  {
   "cell_type": "code",
   "execution_count": 108,
   "metadata": {},
   "outputs": [],
   "source": [
    "max_brand = []\n",
    "for i in range(12):\n",
    "    max_ = -1\n",
    "    for brand in brand_wise_sales_monthwise:\n",
    "#         print(brand_wise_sales_monthwise[brand])\n",
    "        if len(brand_wise_sales_monthwise[brand]) <= i:\n",
    "            continue\n",
    "        curr = brand_wise_sales_monthwise[brand][i]\n",
    "        if curr>max_:\n",
    "            max_ = curr\n",
    "            curr_max_brand = brand\n",
    "            \n",
    "    max_brand.append(curr_max_brand)"
   ]
  },
  {
   "cell_type": "code",
   "execution_count": 109,
   "metadata": {},
   "outputs": [
    {
     "data": {
      "text/plain": [
       "['BRAND027',\n",
       " 'BRAND027',\n",
       " 'BRAND156',\n",
       " 'BRAND027',\n",
       " 'BRAND027',\n",
       " 'BRAND027',\n",
       " 'BRAND027',\n",
       " 'BRAND027',\n",
       " 'BRAND033',\n",
       " 'BRAND017',\n",
       " 'BRAND017',\n",
       " 'BRAND018']"
      ]
     },
     "execution_count": 109,
     "metadata": {},
     "output_type": "execute_result"
    }
   ],
   "source": [
    "max_brand"
   ]
  },
  {
   "cell_type": "markdown",
   "metadata": {},
   "source": [
    "<font color='blue'>Comment</font>: Brand027 was preferred more than other brands across the year. <br>\n",
    "<font color='blue'>Next</font>: Month-wise analysis for each store. </font>"
   ]
  },
  {
   "cell_type": "code",
   "execution_count": null,
   "metadata": {},
   "outputs": [],
   "source": []
  }
 ],
 "metadata": {
  "kernelspec": {
   "display_name": "Python 3",
   "language": "python",
   "name": "python3"
  },
  "language_info": {
   "codemirror_mode": {
    "name": "ipython",
    "version": 3
   },
   "file_extension": ".py",
   "mimetype": "text/x-python",
   "name": "python",
   "nbconvert_exporter": "python",
   "pygments_lexer": "ipython3",
   "version": "3.6.5"
  }
 },
 "nbformat": 4,
 "nbformat_minor": 2
}
